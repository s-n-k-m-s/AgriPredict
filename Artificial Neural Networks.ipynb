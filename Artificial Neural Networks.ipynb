{
 "cells": [
  {
   "cell_type": "code",
   "execution_count": 55,
   "id": "570f8446",
   "metadata": {},
   "outputs": [],
   "source": [
    "import numpy as np\n",
    "import pandas as pd"
   ]
  },
  {
   "cell_type": "code",
   "execution_count": 2,
   "id": "b7da1864",
   "metadata": {},
   "outputs": [],
   "source": [
    "crop_dataset = pd.read_csv(\"Crop_recommendation.csv\")\n",
    "soil_dataset = pd.read_csv(\"Soil.csv\")"
   ]
  },
  {
   "cell_type": "code",
   "execution_count": 3,
   "id": "6f945c9c",
   "metadata": {},
   "outputs": [
    {
     "data": {
      "text/html": [
       "<div>\n",
       "<style scoped>\n",
       "    .dataframe tbody tr th:only-of-type {\n",
       "        vertical-align: middle;\n",
       "    }\n",
       "\n",
       "    .dataframe tbody tr th {\n",
       "        vertical-align: top;\n",
       "    }\n",
       "\n",
       "    .dataframe thead th {\n",
       "        text-align: right;\n",
       "    }\n",
       "</style>\n",
       "<table border=\"1\" class=\"dataframe\">\n",
       "  <thead>\n",
       "    <tr style=\"text-align: right;\">\n",
       "      <th></th>\n",
       "      <th>N</th>\n",
       "      <th>P</th>\n",
       "      <th>K</th>\n",
       "      <th>temperature</th>\n",
       "      <th>humidity</th>\n",
       "      <th>ph</th>\n",
       "      <th>rainfall</th>\n",
       "      <th>label</th>\n",
       "    </tr>\n",
       "  </thead>\n",
       "  <tbody>\n",
       "    <tr>\n",
       "      <th>0</th>\n",
       "      <td>90</td>\n",
       "      <td>42</td>\n",
       "      <td>43</td>\n",
       "      <td>20.879744</td>\n",
       "      <td>82.002744</td>\n",
       "      <td>6.502985</td>\n",
       "      <td>202.935536</td>\n",
       "      <td>rice</td>\n",
       "    </tr>\n",
       "    <tr>\n",
       "      <th>1</th>\n",
       "      <td>85</td>\n",
       "      <td>58</td>\n",
       "      <td>41</td>\n",
       "      <td>21.770462</td>\n",
       "      <td>80.319644</td>\n",
       "      <td>7.038096</td>\n",
       "      <td>226.655537</td>\n",
       "      <td>rice</td>\n",
       "    </tr>\n",
       "    <tr>\n",
       "      <th>2</th>\n",
       "      <td>60</td>\n",
       "      <td>55</td>\n",
       "      <td>44</td>\n",
       "      <td>23.004459</td>\n",
       "      <td>82.320763</td>\n",
       "      <td>7.840207</td>\n",
       "      <td>263.964248</td>\n",
       "      <td>rice</td>\n",
       "    </tr>\n",
       "    <tr>\n",
       "      <th>3</th>\n",
       "      <td>74</td>\n",
       "      <td>35</td>\n",
       "      <td>40</td>\n",
       "      <td>26.491096</td>\n",
       "      <td>80.158363</td>\n",
       "      <td>6.980401</td>\n",
       "      <td>242.864034</td>\n",
       "      <td>rice</td>\n",
       "    </tr>\n",
       "    <tr>\n",
       "      <th>4</th>\n",
       "      <td>78</td>\n",
       "      <td>42</td>\n",
       "      <td>42</td>\n",
       "      <td>20.130175</td>\n",
       "      <td>81.604873</td>\n",
       "      <td>7.628473</td>\n",
       "      <td>262.717340</td>\n",
       "      <td>rice</td>\n",
       "    </tr>\n",
       "    <tr>\n",
       "      <th>...</th>\n",
       "      <td>...</td>\n",
       "      <td>...</td>\n",
       "      <td>...</td>\n",
       "      <td>...</td>\n",
       "      <td>...</td>\n",
       "      <td>...</td>\n",
       "      <td>...</td>\n",
       "      <td>...</td>\n",
       "    </tr>\n",
       "    <tr>\n",
       "      <th>2195</th>\n",
       "      <td>107</td>\n",
       "      <td>34</td>\n",
       "      <td>32</td>\n",
       "      <td>26.774637</td>\n",
       "      <td>66.413269</td>\n",
       "      <td>6.780064</td>\n",
       "      <td>177.774507</td>\n",
       "      <td>coffee</td>\n",
       "    </tr>\n",
       "    <tr>\n",
       "      <th>2196</th>\n",
       "      <td>99</td>\n",
       "      <td>15</td>\n",
       "      <td>27</td>\n",
       "      <td>27.417112</td>\n",
       "      <td>56.636362</td>\n",
       "      <td>6.086922</td>\n",
       "      <td>127.924610</td>\n",
       "      <td>coffee</td>\n",
       "    </tr>\n",
       "    <tr>\n",
       "      <th>2197</th>\n",
       "      <td>118</td>\n",
       "      <td>33</td>\n",
       "      <td>30</td>\n",
       "      <td>24.131797</td>\n",
       "      <td>67.225123</td>\n",
       "      <td>6.362608</td>\n",
       "      <td>173.322839</td>\n",
       "      <td>coffee</td>\n",
       "    </tr>\n",
       "    <tr>\n",
       "      <th>2198</th>\n",
       "      <td>117</td>\n",
       "      <td>32</td>\n",
       "      <td>34</td>\n",
       "      <td>26.272418</td>\n",
       "      <td>52.127394</td>\n",
       "      <td>6.758793</td>\n",
       "      <td>127.175293</td>\n",
       "      <td>coffee</td>\n",
       "    </tr>\n",
       "    <tr>\n",
       "      <th>2199</th>\n",
       "      <td>104</td>\n",
       "      <td>18</td>\n",
       "      <td>30</td>\n",
       "      <td>23.603016</td>\n",
       "      <td>60.396475</td>\n",
       "      <td>6.779833</td>\n",
       "      <td>140.937041</td>\n",
       "      <td>coffee</td>\n",
       "    </tr>\n",
       "  </tbody>\n",
       "</table>\n",
       "<p>2200 rows × 8 columns</p>\n",
       "</div>"
      ],
      "text/plain": [
       "        N   P   K  temperature   humidity        ph    rainfall   label\n",
       "0      90  42  43    20.879744  82.002744  6.502985  202.935536    rice\n",
       "1      85  58  41    21.770462  80.319644  7.038096  226.655537    rice\n",
       "2      60  55  44    23.004459  82.320763  7.840207  263.964248    rice\n",
       "3      74  35  40    26.491096  80.158363  6.980401  242.864034    rice\n",
       "4      78  42  42    20.130175  81.604873  7.628473  262.717340    rice\n",
       "...   ...  ..  ..          ...        ...       ...         ...     ...\n",
       "2195  107  34  32    26.774637  66.413269  6.780064  177.774507  coffee\n",
       "2196   99  15  27    27.417112  56.636362  6.086922  127.924610  coffee\n",
       "2197  118  33  30    24.131797  67.225123  6.362608  173.322839  coffee\n",
       "2198  117  32  34    26.272418  52.127394  6.758793  127.175293  coffee\n",
       "2199  104  18  30    23.603016  60.396475  6.779833  140.937041  coffee\n",
       "\n",
       "[2200 rows x 8 columns]"
      ]
     },
     "execution_count": 3,
     "metadata": {},
     "output_type": "execute_result"
    }
   ],
   "source": [
    "crop_dataset"
   ]
  },
  {
   "cell_type": "code",
   "execution_count": 4,
   "id": "751d3c29",
   "metadata": {},
   "outputs": [
    {
     "name": "stdout",
     "output_type": "stream",
     "text": [
      "['rice' 'maize' 'chickpea' 'kidneybeans' 'pigeonpeas' 'mothbeans'\n",
      " 'mungbean' 'blackgram' 'lentil' 'pomegranate' 'banana' 'mango' 'grapes'\n",
      " 'watermelon' 'muskmelon' 'apple' 'orange' 'papaya' 'coconut' 'cotton'\n",
      " 'jute' 'coffee']\n"
     ]
    }
   ],
   "source": [
    "print(crop_dataset['label'].unique())"
   ]
  },
  {
   "cell_type": "code",
   "execution_count": 5,
   "id": "c075a0b9",
   "metadata": {},
   "outputs": [
    {
     "data": {
      "text/html": [
       "<div>\n",
       "<style scoped>\n",
       "    .dataframe tbody tr th:only-of-type {\n",
       "        vertical-align: middle;\n",
       "    }\n",
       "\n",
       "    .dataframe tbody tr th {\n",
       "        vertical-align: top;\n",
       "    }\n",
       "\n",
       "    .dataframe thead th {\n",
       "        text-align: right;\n",
       "    }\n",
       "</style>\n",
       "<table border=\"1\" class=\"dataframe\">\n",
       "  <thead>\n",
       "    <tr style=\"text-align: right;\">\n",
       "      <th></th>\n",
       "      <th>N</th>\n",
       "      <th>P</th>\n",
       "      <th>K</th>\n",
       "      <th>temperature</th>\n",
       "      <th>humidity</th>\n",
       "      <th>ph</th>\n",
       "      <th>rainfall</th>\n",
       "      <th>label</th>\n",
       "    </tr>\n",
       "  </thead>\n",
       "  <tbody>\n",
       "    <tr>\n",
       "      <th>0</th>\n",
       "      <td>90</td>\n",
       "      <td>42</td>\n",
       "      <td>43</td>\n",
       "      <td>20.879744</td>\n",
       "      <td>82.002744</td>\n",
       "      <td>6.502985</td>\n",
       "      <td>202.935536</td>\n",
       "      <td>rice</td>\n",
       "    </tr>\n",
       "    <tr>\n",
       "      <th>1</th>\n",
       "      <td>85</td>\n",
       "      <td>58</td>\n",
       "      <td>41</td>\n",
       "      <td>21.770462</td>\n",
       "      <td>80.319644</td>\n",
       "      <td>7.038096</td>\n",
       "      <td>226.655537</td>\n",
       "      <td>rice</td>\n",
       "    </tr>\n",
       "    <tr>\n",
       "      <th>2</th>\n",
       "      <td>60</td>\n",
       "      <td>55</td>\n",
       "      <td>44</td>\n",
       "      <td>23.004459</td>\n",
       "      <td>82.320763</td>\n",
       "      <td>7.840207</td>\n",
       "      <td>263.964248</td>\n",
       "      <td>rice</td>\n",
       "    </tr>\n",
       "    <tr>\n",
       "      <th>3</th>\n",
       "      <td>74</td>\n",
       "      <td>35</td>\n",
       "      <td>40</td>\n",
       "      <td>26.491096</td>\n",
       "      <td>80.158363</td>\n",
       "      <td>6.980401</td>\n",
       "      <td>242.864034</td>\n",
       "      <td>rice</td>\n",
       "    </tr>\n",
       "    <tr>\n",
       "      <th>4</th>\n",
       "      <td>78</td>\n",
       "      <td>42</td>\n",
       "      <td>42</td>\n",
       "      <td>20.130175</td>\n",
       "      <td>81.604873</td>\n",
       "      <td>7.628473</td>\n",
       "      <td>262.717340</td>\n",
       "      <td>rice</td>\n",
       "    </tr>\n",
       "  </tbody>\n",
       "</table>\n",
       "</div>"
      ],
      "text/plain": [
       "    N   P   K  temperature   humidity        ph    rainfall label\n",
       "0  90  42  43    20.879744  82.002744  6.502985  202.935536  rice\n",
       "1  85  58  41    21.770462  80.319644  7.038096  226.655537  rice\n",
       "2  60  55  44    23.004459  82.320763  7.840207  263.964248  rice\n",
       "3  74  35  40    26.491096  80.158363  6.980401  242.864034  rice\n",
       "4  78  42  42    20.130175  81.604873  7.628473  262.717340  rice"
      ]
     },
     "execution_count": 5,
     "metadata": {},
     "output_type": "execute_result"
    }
   ],
   "source": [
    "crop_dataset.head()"
   ]
  },
  {
   "cell_type": "code",
   "execution_count": 6,
   "id": "493d83fc",
   "metadata": {},
   "outputs": [
    {
     "data": {
      "text/html": [
       "<div>\n",
       "<style scoped>\n",
       "    .dataframe tbody tr th:only-of-type {\n",
       "        vertical-align: middle;\n",
       "    }\n",
       "\n",
       "    .dataframe tbody tr th {\n",
       "        vertical-align: top;\n",
       "    }\n",
       "\n",
       "    .dataframe thead th {\n",
       "        text-align: right;\n",
       "    }\n",
       "</style>\n",
       "<table border=\"1\" class=\"dataframe\">\n",
       "  <thead>\n",
       "    <tr style=\"text-align: right;\">\n",
       "      <th></th>\n",
       "      <th>pH</th>\n",
       "      <th>EC</th>\n",
       "      <th>OC</th>\n",
       "      <th>OM</th>\n",
       "      <th>N</th>\n",
       "      <th>P</th>\n",
       "      <th>K</th>\n",
       "      <th>Zn</th>\n",
       "      <th>Fe</th>\n",
       "      <th>Cu</th>\n",
       "      <th>Mn</th>\n",
       "      <th>Sand</th>\n",
       "      <th>Silt</th>\n",
       "      <th>Clay</th>\n",
       "      <th>CaCO3</th>\n",
       "      <th>CEC</th>\n",
       "      <th>Output</th>\n",
       "    </tr>\n",
       "  </thead>\n",
       "  <tbody>\n",
       "    <tr>\n",
       "      <th>0</th>\n",
       "      <td>7.74</td>\n",
       "      <td>0.40</td>\n",
       "      <td>0.01</td>\n",
       "      <td>0.01</td>\n",
       "      <td>75</td>\n",
       "      <td>20.0</td>\n",
       "      <td>279</td>\n",
       "      <td>0.48</td>\n",
       "      <td>6.4</td>\n",
       "      <td>0.21</td>\n",
       "      <td>4.7</td>\n",
       "      <td>84.3</td>\n",
       "      <td>6.8</td>\n",
       "      <td>8.9</td>\n",
       "      <td>6.72</td>\n",
       "      <td>7.81</td>\n",
       "      <td>Fertile</td>\n",
       "    </tr>\n",
       "    <tr>\n",
       "      <th>1</th>\n",
       "      <td>9.02</td>\n",
       "      <td>0.31</td>\n",
       "      <td>0.02</td>\n",
       "      <td>0.03</td>\n",
       "      <td>85</td>\n",
       "      <td>15.7</td>\n",
       "      <td>247</td>\n",
       "      <td>0.27</td>\n",
       "      <td>6.4</td>\n",
       "      <td>0.16</td>\n",
       "      <td>5.6</td>\n",
       "      <td>90.4</td>\n",
       "      <td>3.9</td>\n",
       "      <td>5.7</td>\n",
       "      <td>4.61</td>\n",
       "      <td>7.19</td>\n",
       "      <td>Fertile</td>\n",
       "    </tr>\n",
       "    <tr>\n",
       "      <th>2</th>\n",
       "      <td>7.80</td>\n",
       "      <td>0.17</td>\n",
       "      <td>0.02</td>\n",
       "      <td>0.03</td>\n",
       "      <td>77</td>\n",
       "      <td>35.6</td>\n",
       "      <td>265</td>\n",
       "      <td>0.46</td>\n",
       "      <td>6.2</td>\n",
       "      <td>0.51</td>\n",
       "      <td>6.1</td>\n",
       "      <td>84.5</td>\n",
       "      <td>6.9</td>\n",
       "      <td>8.6</td>\n",
       "      <td>1.53</td>\n",
       "      <td>12.32</td>\n",
       "      <td>Fertile</td>\n",
       "    </tr>\n",
       "    <tr>\n",
       "      <th>3</th>\n",
       "      <td>8.36</td>\n",
       "      <td>0.02</td>\n",
       "      <td>0.03</td>\n",
       "      <td>0.05</td>\n",
       "      <td>106</td>\n",
       "      <td>6.4</td>\n",
       "      <td>127</td>\n",
       "      <td>0.50</td>\n",
       "      <td>3.1</td>\n",
       "      <td>0.28</td>\n",
       "      <td>2.3</td>\n",
       "      <td>93.9</td>\n",
       "      <td>1.7</td>\n",
       "      <td>4.4</td>\n",
       "      <td>0.00</td>\n",
       "      <td>1.60</td>\n",
       "      <td>Non Fertile</td>\n",
       "    </tr>\n",
       "    <tr>\n",
       "      <th>4</th>\n",
       "      <td>8.36</td>\n",
       "      <td>1.08</td>\n",
       "      <td>0.03</td>\n",
       "      <td>0.05</td>\n",
       "      <td>96</td>\n",
       "      <td>10.5</td>\n",
       "      <td>96</td>\n",
       "      <td>0.31</td>\n",
       "      <td>3.2</td>\n",
       "      <td>0.23</td>\n",
       "      <td>4.1</td>\n",
       "      <td>91.5</td>\n",
       "      <td>4.1</td>\n",
       "      <td>4.4</td>\n",
       "      <td>9.08</td>\n",
       "      <td>7.21</td>\n",
       "      <td>Non Fertile</td>\n",
       "    </tr>\n",
       "    <tr>\n",
       "      <th>...</th>\n",
       "      <td>...</td>\n",
       "      <td>...</td>\n",
       "      <td>...</td>\n",
       "      <td>...</td>\n",
       "      <td>...</td>\n",
       "      <td>...</td>\n",
       "      <td>...</td>\n",
       "      <td>...</td>\n",
       "      <td>...</td>\n",
       "      <td>...</td>\n",
       "      <td>...</td>\n",
       "      <td>...</td>\n",
       "      <td>...</td>\n",
       "      <td>...</td>\n",
       "      <td>...</td>\n",
       "      <td>...</td>\n",
       "      <td>...</td>\n",
       "    </tr>\n",
       "    <tr>\n",
       "      <th>95</th>\n",
       "      <td>9.21</td>\n",
       "      <td>0.14</td>\n",
       "      <td>0.62</td>\n",
       "      <td>1.06</td>\n",
       "      <td>278</td>\n",
       "      <td>9.8</td>\n",
       "      <td>165</td>\n",
       "      <td>0.18</td>\n",
       "      <td>8.6</td>\n",
       "      <td>0.57</td>\n",
       "      <td>5.8</td>\n",
       "      <td>88.2</td>\n",
       "      <td>2.4</td>\n",
       "      <td>9.4</td>\n",
       "      <td>4.23</td>\n",
       "      <td>8.81</td>\n",
       "      <td>Fertile</td>\n",
       "    </tr>\n",
       "    <tr>\n",
       "      <th>96</th>\n",
       "      <td>7.50</td>\n",
       "      <td>0.22</td>\n",
       "      <td>0.68</td>\n",
       "      <td>1.17</td>\n",
       "      <td>272</td>\n",
       "      <td>9.5</td>\n",
       "      <td>139</td>\n",
       "      <td>0.72</td>\n",
       "      <td>2.6</td>\n",
       "      <td>0.12</td>\n",
       "      <td>1.8</td>\n",
       "      <td>95.4</td>\n",
       "      <td>1.4</td>\n",
       "      <td>3.2</td>\n",
       "      <td>0.00</td>\n",
       "      <td>5.58</td>\n",
       "      <td>Non Fertile</td>\n",
       "    </tr>\n",
       "    <tr>\n",
       "      <th>97</th>\n",
       "      <td>8.26</td>\n",
       "      <td>0.25</td>\n",
       "      <td>0.71</td>\n",
       "      <td>1.22</td>\n",
       "      <td>277</td>\n",
       "      <td>11.5</td>\n",
       "      <td>264</td>\n",
       "      <td>0.36</td>\n",
       "      <td>7.6</td>\n",
       "      <td>0.07</td>\n",
       "      <td>0.8</td>\n",
       "      <td>90.7</td>\n",
       "      <td>2.5</td>\n",
       "      <td>6.8</td>\n",
       "      <td>3.85</td>\n",
       "      <td>7.26</td>\n",
       "      <td>Fertile</td>\n",
       "    </tr>\n",
       "    <tr>\n",
       "      <th>98</th>\n",
       "      <td>8.12</td>\n",
       "      <td>0.14</td>\n",
       "      <td>0.73</td>\n",
       "      <td>1.25</td>\n",
       "      <td>265</td>\n",
       "      <td>4.6</td>\n",
       "      <td>283</td>\n",
       "      <td>0.38</td>\n",
       "      <td>3.7</td>\n",
       "      <td>0.18</td>\n",
       "      <td>0.8</td>\n",
       "      <td>86.0</td>\n",
       "      <td>6.7</td>\n",
       "      <td>7.3</td>\n",
       "      <td>0.00</td>\n",
       "      <td>3.10</td>\n",
       "      <td>Non Fertile</td>\n",
       "    </tr>\n",
       "    <tr>\n",
       "      <th>99</th>\n",
       "      <td>7.31</td>\n",
       "      <td>0.46</td>\n",
       "      <td>0.74</td>\n",
       "      <td>1.27</td>\n",
       "      <td>277</td>\n",
       "      <td>32.4</td>\n",
       "      <td>241</td>\n",
       "      <td>0.27</td>\n",
       "      <td>8.2</td>\n",
       "      <td>0.23</td>\n",
       "      <td>4.2</td>\n",
       "      <td>80.5</td>\n",
       "      <td>6.8</td>\n",
       "      <td>12.7</td>\n",
       "      <td>4.86</td>\n",
       "      <td>6.51</td>\n",
       "      <td>Fertile</td>\n",
       "    </tr>\n",
       "  </tbody>\n",
       "</table>\n",
       "<p>100 rows × 17 columns</p>\n",
       "</div>"
      ],
      "text/plain": [
       "      pH    EC    OC    OM    N     P    K    Zn   Fe    Cu   Mn  Sand  Silt  \\\n",
       "0   7.74  0.40  0.01  0.01   75  20.0  279  0.48  6.4  0.21  4.7  84.3   6.8   \n",
       "1   9.02  0.31  0.02  0.03   85  15.7  247  0.27  6.4  0.16  5.6  90.4   3.9   \n",
       "2   7.80  0.17  0.02  0.03   77  35.6  265  0.46  6.2  0.51  6.1  84.5   6.9   \n",
       "3   8.36  0.02  0.03  0.05  106   6.4  127  0.50  3.1  0.28  2.3  93.9   1.7   \n",
       "4   8.36  1.08  0.03  0.05   96  10.5   96  0.31  3.2  0.23  4.1  91.5   4.1   \n",
       "..   ...   ...   ...   ...  ...   ...  ...   ...  ...   ...  ...   ...   ...   \n",
       "95  9.21  0.14  0.62  1.06  278   9.8  165  0.18  8.6  0.57  5.8  88.2   2.4   \n",
       "96  7.50  0.22  0.68  1.17  272   9.5  139  0.72  2.6  0.12  1.8  95.4   1.4   \n",
       "97  8.26  0.25  0.71  1.22  277  11.5  264  0.36  7.6  0.07  0.8  90.7   2.5   \n",
       "98  8.12  0.14  0.73  1.25  265   4.6  283  0.38  3.7  0.18  0.8  86.0   6.7   \n",
       "99  7.31  0.46  0.74  1.27  277  32.4  241  0.27  8.2  0.23  4.2  80.5   6.8   \n",
       "\n",
       "    Clay  CaCO3    CEC       Output  \n",
       "0    8.9   6.72   7.81      Fertile  \n",
       "1    5.7   4.61   7.19      Fertile  \n",
       "2    8.6   1.53  12.32      Fertile  \n",
       "3    4.4   0.00   1.60  Non Fertile  \n",
       "4    4.4   9.08   7.21  Non Fertile  \n",
       "..   ...    ...    ...          ...  \n",
       "95   9.4   4.23   8.81      Fertile  \n",
       "96   3.2   0.00   5.58  Non Fertile  \n",
       "97   6.8   3.85   7.26      Fertile  \n",
       "98   7.3   0.00   3.10  Non Fertile  \n",
       "99  12.7   4.86   6.51      Fertile  \n",
       "\n",
       "[100 rows x 17 columns]"
      ]
     },
     "execution_count": 6,
     "metadata": {},
     "output_type": "execute_result"
    }
   ],
   "source": [
    "soil_dataset"
   ]
  },
  {
   "cell_type": "code",
   "execution_count": 7,
   "id": "6e3d3a8f",
   "metadata": {},
   "outputs": [],
   "source": [
    "x1 = crop_dataset.drop('label',axis=1)\n",
    "y1 = crop_dataset['label']"
   ]
  },
  {
   "cell_type": "code",
   "execution_count": null,
   "id": "131b1d8c",
   "metadata": {},
   "outputs": [],
   "source": []
  },
  {
   "cell_type": "code",
   "execution_count": 8,
   "id": "81b6427a",
   "metadata": {},
   "outputs": [],
   "source": [
    "from sklearn.preprocessing import LabelEncoder\n",
    "le = LabelEncoder()"
   ]
  },
  {
   "cell_type": "code",
   "execution_count": 9,
   "id": "0725fd51",
   "metadata": {},
   "outputs": [],
   "source": [
    "y1 = le.fit_transform(y1)"
   ]
  },
  {
   "cell_type": "code",
   "execution_count": 10,
   "id": "164472b2",
   "metadata": {},
   "outputs": [
    {
     "data": {
      "text/plain": [
       "array([20, 20, 20, ...,  5,  5,  5])"
      ]
     },
     "execution_count": 10,
     "metadata": {},
     "output_type": "execute_result"
    }
   ],
   "source": [
    "y1"
   ]
  },
  {
   "cell_type": "code",
   "execution_count": 11,
   "id": "f1b7d6e6",
   "metadata": {},
   "outputs": [
    {
     "data": {
      "text/plain": [
       "{20: 'rice',\n",
       " 11: 'maize',\n",
       " 3: 'chickpea',\n",
       " 9: 'kidneybeans',\n",
       " 18: 'pigeonpeas',\n",
       " 13: 'mothbeans',\n",
       " 14: 'mungbean',\n",
       " 2: 'blackgram',\n",
       " 10: 'lentil',\n",
       " 19: 'pomegranate',\n",
       " 1: 'banana',\n",
       " 12: 'mango',\n",
       " 7: 'grapes',\n",
       " 21: 'watermelon',\n",
       " 15: 'muskmelon',\n",
       " 0: 'apple',\n",
       " 16: 'orange',\n",
       " 17: 'papaya',\n",
       " 4: 'coconut',\n",
       " 6: 'cotton',\n",
       " 8: 'jute',\n",
       " 5: 'coffee'}"
      ]
     },
     "execution_count": 11,
     "metadata": {},
     "output_type": "execute_result"
    }
   ],
   "source": [
    "from sklearn.model_selection import train_test_split\n",
    "x1_train,x1_test,y1_train,y1_test=train_test_split(x1,y1,test_size=0.3,random_state=0)\n",
    "x1_train, x1_val, y1_train,y1_val = train_test_split(x1_train,y1_train,test_size=0.3,random_state=0)\n",
    "y1 = dict(zip(list(y1),crop_dataset['label'].to_list()))\n",
    "y1"
   ]
  },
  {
   "cell_type": "code",
   "execution_count": 12,
   "id": "e7f9dd8d",
   "metadata": {},
   "outputs": [],
   "source": [
    "from sklearn.preprocessing import StandardScaler\n",
    "sc = StandardScaler()\n",
    "x1_train = sc.fit_transform(x1_train)\n",
    "x1_test = sc.fit_transform(x1_test)"
   ]
  },
  {
   "cell_type": "code",
   "execution_count": 13,
   "id": "3c05fad4",
   "metadata": {},
   "outputs": [
    {
     "name": "stdout",
     "output_type": "stream",
     "text": [
      "WARNING:tensorflow:From C:\\Users\\KRISHNA MOHAN\\AppData\\Roaming\\Python\\Python311\\site-packages\\keras\\src\\losses.py:2976: The name tf.losses.sparse_softmax_cross_entropy is deprecated. Please use tf.compat.v1.losses.sparse_softmax_cross_entropy instead.\n",
      "\n"
     ]
    }
   ],
   "source": [
    "import keras #importing the keras libraries and packages\n",
    "from keras.models import Sequential #For initializing ANN Model\n",
    "from keras.layers import Dense #For different layer structure\n",
    "from tensorflow.keras.layers import Dropout "
   ]
  },
  {
   "cell_type": "code",
   "execution_count": 14,
   "id": "dd0b68ec",
   "metadata": {},
   "outputs": [
    {
     "name": "stdout",
     "output_type": "stream",
     "text": [
      "WARNING:tensorflow:From C:\\Users\\KRISHNA MOHAN\\AppData\\Roaming\\Python\\Python311\\site-packages\\keras\\src\\backend.py:873: The name tf.get_default_graph is deprecated. Please use tf.compat.v1.get_default_graph instead.\n",
      "\n"
     ]
    }
   ],
   "source": [
    "classifier = Sequential() #initialized model\n",
    "classifier.add(Dense(160,input_dim=7,activation='relu')) #first hidden layer\n",
    "classifier.add(Dense(70,activation='relu'))\n",
    "classifier.add(Dense(50,activation='relu'))\n",
    "classifier.add(Dense(22,activation='softmax'))"
   ]
  },
  {
   "cell_type": "code",
   "execution_count": 15,
   "id": "7452d76b",
   "metadata": {},
   "outputs": [
    {
     "name": "stdout",
     "output_type": "stream",
     "text": [
      "WARNING:tensorflow:From C:\\Users\\KRISHNA MOHAN\\AppData\\Roaming\\Python\\Python311\\site-packages\\keras\\src\\optimizers\\__init__.py:309: The name tf.train.Optimizer is deprecated. Please use tf.compat.v1.train.Optimizer instead.\n",
      "\n"
     ]
    }
   ],
   "source": [
    "classifier.compile(optimizer = 'adam',loss='sparse_categorical_crossentropy',metrics=['accuracy'])"
   ]
  },
  {
   "cell_type": "code",
   "execution_count": 16,
   "id": "e1370028",
   "metadata": {},
   "outputs": [
    {
     "name": "stdout",
     "output_type": "stream",
     "text": [
      "Epoch 1/10\n",
      "WARNING:tensorflow:From C:\\Users\\KRISHNA MOHAN\\AppData\\Roaming\\Python\\Python311\\site-packages\\keras\\src\\utils\\tf_utils.py:492: The name tf.ragged.RaggedTensorValue is deprecated. Please use tf.compat.v1.ragged.RaggedTensorValue instead.\n",
      "\n",
      "WARNING:tensorflow:From C:\\Users\\KRISHNA MOHAN\\AppData\\Roaming\\Python\\Python311\\site-packages\\keras\\src\\engine\\base_layer_utils.py:384: The name tf.executing_eagerly_outside_functions is deprecated. Please use tf.compat.v1.executing_eagerly_outside_functions instead.\n",
      "\n",
      "34/34 [==============================] - 3s 5ms/step - loss: 2.7714 - accuracy: 0.2458\n",
      "Epoch 2/10\n",
      "34/34 [==============================] - 0s 5ms/step - loss: 1.8076 - accuracy: 0.5065\n",
      "Epoch 3/10\n",
      "34/34 [==============================] - 0s 4ms/step - loss: 0.9249 - accuracy: 0.7876\n",
      "Epoch 4/10\n",
      "34/34 [==============================] - 0s 4ms/step - loss: 0.5102 - accuracy: 0.8683\n",
      "Epoch 5/10\n",
      "34/34 [==============================] - 0s 4ms/step - loss: 0.3336 - accuracy: 0.9193\n",
      "Epoch 6/10\n",
      "34/34 [==============================] - 0s 4ms/step - loss: 0.2489 - accuracy: 0.9388\n",
      "Epoch 7/10\n",
      "34/34 [==============================] - 0s 4ms/step - loss: 0.1992 - accuracy: 0.9499\n",
      "Epoch 8/10\n",
      "34/34 [==============================] - 0s 4ms/step - loss: 0.1628 - accuracy: 0.9573\n",
      "Epoch 9/10\n",
      "34/34 [==============================] - 0s 4ms/step - loss: 0.1505 - accuracy: 0.9508\n",
      "Epoch 10/10\n",
      "34/34 [==============================] - 0s 4ms/step - loss: 0.1341 - accuracy: 0.9536\n"
     ]
    },
    {
     "data": {
      "text/plain": [
       "<keras.src.callbacks.History at 0x1ef08782250>"
      ]
     },
     "execution_count": 16,
     "metadata": {},
     "output_type": "execute_result"
    }
   ],
   "source": [
    "classifier.fit(x1_train,y1_train,epochs=10)"
   ]
  },
  {
   "cell_type": "code",
   "execution_count": 17,
   "id": "7849f560",
   "metadata": {},
   "outputs": [
    {
     "name": "stdout",
     "output_type": "stream",
     "text": [
      "21/21 [==============================] - 0s 4ms/step - loss: 0.1379 - accuracy: 0.9682\n"
     ]
    },
    {
     "data": {
      "text/plain": [
       "[0.13788695633411407, 0.9681817889213562]"
      ]
     },
     "execution_count": 17,
     "metadata": {},
     "output_type": "execute_result"
    }
   ],
   "source": [
    "classifier.evaluate(x1_test,y1_test)"
   ]
  },
  {
   "cell_type": "code",
   "execution_count": 18,
   "id": "cdc550bd",
   "metadata": {},
   "outputs": [
    {
     "name": "stdout",
     "output_type": "stream",
     "text": [
      "21/21 [==============================] - 0s 4ms/step\n"
     ]
    }
   ],
   "source": [
    "y1_pred = classifier.predict(x1_test)"
   ]
  },
  {
   "cell_type": "code",
   "execution_count": 19,
   "id": "e3aecb6a",
   "metadata": {},
   "outputs": [
    {
     "data": {
      "text/html": [
       "<div>\n",
       "<style scoped>\n",
       "    .dataframe tbody tr th:only-of-type {\n",
       "        vertical-align: middle;\n",
       "    }\n",
       "\n",
       "    .dataframe tbody tr th {\n",
       "        vertical-align: top;\n",
       "    }\n",
       "\n",
       "    .dataframe thead th {\n",
       "        text-align: right;\n",
       "    }\n",
       "</style>\n",
       "<table border=\"1\" class=\"dataframe\">\n",
       "  <thead>\n",
       "    <tr style=\"text-align: right;\">\n",
       "      <th></th>\n",
       "      <th>pH</th>\n",
       "      <th>EC</th>\n",
       "      <th>OC</th>\n",
       "      <th>OM</th>\n",
       "      <th>N</th>\n",
       "      <th>P</th>\n",
       "      <th>K</th>\n",
       "      <th>Zn</th>\n",
       "      <th>Fe</th>\n",
       "      <th>Cu</th>\n",
       "      <th>Mn</th>\n",
       "      <th>Sand</th>\n",
       "      <th>Silt</th>\n",
       "      <th>Clay</th>\n",
       "      <th>CaCO3</th>\n",
       "      <th>CEC</th>\n",
       "      <th>Output</th>\n",
       "    </tr>\n",
       "  </thead>\n",
       "  <tbody>\n",
       "    <tr>\n",
       "      <th>0</th>\n",
       "      <td>7.74</td>\n",
       "      <td>0.40</td>\n",
       "      <td>0.01</td>\n",
       "      <td>0.01</td>\n",
       "      <td>75</td>\n",
       "      <td>20.0</td>\n",
       "      <td>279</td>\n",
       "      <td>0.48</td>\n",
       "      <td>6.4</td>\n",
       "      <td>0.21</td>\n",
       "      <td>4.7</td>\n",
       "      <td>84.3</td>\n",
       "      <td>6.8</td>\n",
       "      <td>8.9</td>\n",
       "      <td>6.72</td>\n",
       "      <td>7.81</td>\n",
       "      <td>Fertile</td>\n",
       "    </tr>\n",
       "    <tr>\n",
       "      <th>1</th>\n",
       "      <td>9.02</td>\n",
       "      <td>0.31</td>\n",
       "      <td>0.02</td>\n",
       "      <td>0.03</td>\n",
       "      <td>85</td>\n",
       "      <td>15.7</td>\n",
       "      <td>247</td>\n",
       "      <td>0.27</td>\n",
       "      <td>6.4</td>\n",
       "      <td>0.16</td>\n",
       "      <td>5.6</td>\n",
       "      <td>90.4</td>\n",
       "      <td>3.9</td>\n",
       "      <td>5.7</td>\n",
       "      <td>4.61</td>\n",
       "      <td>7.19</td>\n",
       "      <td>Fertile</td>\n",
       "    </tr>\n",
       "    <tr>\n",
       "      <th>2</th>\n",
       "      <td>7.80</td>\n",
       "      <td>0.17</td>\n",
       "      <td>0.02</td>\n",
       "      <td>0.03</td>\n",
       "      <td>77</td>\n",
       "      <td>35.6</td>\n",
       "      <td>265</td>\n",
       "      <td>0.46</td>\n",
       "      <td>6.2</td>\n",
       "      <td>0.51</td>\n",
       "      <td>6.1</td>\n",
       "      <td>84.5</td>\n",
       "      <td>6.9</td>\n",
       "      <td>8.6</td>\n",
       "      <td>1.53</td>\n",
       "      <td>12.32</td>\n",
       "      <td>Fertile</td>\n",
       "    </tr>\n",
       "    <tr>\n",
       "      <th>3</th>\n",
       "      <td>8.36</td>\n",
       "      <td>0.02</td>\n",
       "      <td>0.03</td>\n",
       "      <td>0.05</td>\n",
       "      <td>106</td>\n",
       "      <td>6.4</td>\n",
       "      <td>127</td>\n",
       "      <td>0.50</td>\n",
       "      <td>3.1</td>\n",
       "      <td>0.28</td>\n",
       "      <td>2.3</td>\n",
       "      <td>93.9</td>\n",
       "      <td>1.7</td>\n",
       "      <td>4.4</td>\n",
       "      <td>0.00</td>\n",
       "      <td>1.60</td>\n",
       "      <td>Non Fertile</td>\n",
       "    </tr>\n",
       "    <tr>\n",
       "      <th>4</th>\n",
       "      <td>8.36</td>\n",
       "      <td>1.08</td>\n",
       "      <td>0.03</td>\n",
       "      <td>0.05</td>\n",
       "      <td>96</td>\n",
       "      <td>10.5</td>\n",
       "      <td>96</td>\n",
       "      <td>0.31</td>\n",
       "      <td>3.2</td>\n",
       "      <td>0.23</td>\n",
       "      <td>4.1</td>\n",
       "      <td>91.5</td>\n",
       "      <td>4.1</td>\n",
       "      <td>4.4</td>\n",
       "      <td>9.08</td>\n",
       "      <td>7.21</td>\n",
       "      <td>Non Fertile</td>\n",
       "    </tr>\n",
       "  </tbody>\n",
       "</table>\n",
       "</div>"
      ],
      "text/plain": [
       "     pH    EC    OC    OM    N     P    K    Zn   Fe    Cu   Mn  Sand  Silt  \\\n",
       "0  7.74  0.40  0.01  0.01   75  20.0  279  0.48  6.4  0.21  4.7  84.3   6.8   \n",
       "1  9.02  0.31  0.02  0.03   85  15.7  247  0.27  6.4  0.16  5.6  90.4   3.9   \n",
       "2  7.80  0.17  0.02  0.03   77  35.6  265  0.46  6.2  0.51  6.1  84.5   6.9   \n",
       "3  8.36  0.02  0.03  0.05  106   6.4  127  0.50  3.1  0.28  2.3  93.9   1.7   \n",
       "4  8.36  1.08  0.03  0.05   96  10.5   96  0.31  3.2  0.23  4.1  91.5   4.1   \n",
       "\n",
       "   Clay  CaCO3    CEC       Output  \n",
       "0   8.9   6.72   7.81      Fertile  \n",
       "1   5.7   4.61   7.19      Fertile  \n",
       "2   8.6   1.53  12.32      Fertile  \n",
       "3   4.4   0.00   1.60  Non Fertile  \n",
       "4   4.4   9.08   7.21  Non Fertile  "
      ]
     },
     "execution_count": 19,
     "metadata": {},
     "output_type": "execute_result"
    }
   ],
   "source": [
    "soil_dataset.head()"
   ]
  },
  {
   "cell_type": "code",
   "execution_count": 20,
   "id": "e0c69808",
   "metadata": {},
   "outputs": [],
   "source": [
    "x2 = soil_dataset.drop('Output', axis=1)\n",
    "y2 = soil_dataset['Output']"
   ]
  },
  {
   "cell_type": "code",
   "execution_count": null,
   "id": "085515cc",
   "metadata": {},
   "outputs": [],
   "source": []
  },
  {
   "cell_type": "code",
   "execution_count": 21,
   "id": "4ea7a952",
   "metadata": {},
   "outputs": [],
   "source": [
    "y2 = le.fit_transform(y2)"
   ]
  },
  {
   "cell_type": "code",
   "execution_count": 22,
   "id": "cdcdcf50",
   "metadata": {},
   "outputs": [
    {
     "data": {
      "text/plain": [
       "array([0, 0, 0, 1, 1, 1, 1, 1, 0, 0, 1, 0, 0, 0, 1, 1, 1, 1, 1, 1, 1, 0,\n",
       "       0, 0, 1, 1, 1, 1, 1, 1, 0, 0, 0, 0, 1, 0, 1, 0, 1, 1, 1, 1, 0, 1,\n",
       "       1, 1, 0, 0, 0, 1, 1, 0, 0, 1, 0, 1, 1, 1, 1, 0, 1, 0, 0, 0, 1, 1,\n",
       "       0, 1, 1, 1, 0, 0, 1, 1, 1, 0, 0, 0, 1, 1, 1, 0, 0, 1, 0, 0, 0, 0,\n",
       "       0, 0, 0, 0, 0, 0, 0, 0, 1, 0, 1, 0])"
      ]
     },
     "execution_count": 22,
     "metadata": {},
     "output_type": "execute_result"
    }
   ],
   "source": [
    "y2"
   ]
  },
  {
   "cell_type": "code",
   "execution_count": 64,
   "id": "e50b723c",
   "metadata": {},
   "outputs": [],
   "source": [
    "x2_train, x2_test,y2_train,y2_test = train_test_split(x2,y2,test_size=0.3)\n",
    "x2_train, x2_val, y2_train,y2_val = train_test_split(x2_train,y2_train,test_size=0.3,random_state=0)"
   ]
  },
  {
   "cell_type": "code",
   "execution_count": 65,
   "id": "b7d864ff",
   "metadata": {},
   "outputs": [],
   "source": [
    "x2_train = sc.fit_transform(x2_train)\n",
    "x2_test = sc.fit_transform(x2_test)"
   ]
  },
  {
   "cell_type": "code",
   "execution_count": 66,
   "id": "db7cf0c5",
   "metadata": {},
   "outputs": [],
   "source": [
    "cls = Sequential()\n",
    "cls.add(Dense(50,input_dim=16,activation='relu'))\n",
    "cls.add(Dense(24,activation='relu'))\n",
    "cls.add(Dense(12,activation='relu'))\n",
    "cls.add(Dense(1,activation='sigmoid'))"
   ]
  },
  {
   "cell_type": "code",
   "execution_count": 67,
   "id": "41fc65ef",
   "metadata": {},
   "outputs": [],
   "source": [
    "cls.compile(optimizer = 'adam',loss='binary_crossentropy',metrics=['accuracy'])"
   ]
  },
  {
   "cell_type": "code",
   "execution_count": 68,
   "id": "5a19f7dd",
   "metadata": {
    "scrolled": true
   },
   "outputs": [
    {
     "name": "stdout",
     "output_type": "stream",
     "text": [
      "Epoch 1/10\n",
      "5/5 [==============================] - 1s 3ms/step - loss: 0.6944 - accuracy: 0.6327\n",
      "Epoch 2/10\n",
      "5/5 [==============================] - 0s 3ms/step - loss: 0.6297 - accuracy: 0.7143\n",
      "Epoch 3/10\n",
      "5/5 [==============================] - 0s 3ms/step - loss: 0.5706 - accuracy: 0.7959\n",
      "Epoch 4/10\n",
      "5/5 [==============================] - 0s 3ms/step - loss: 0.5210 - accuracy: 0.8367\n",
      "Epoch 5/10\n",
      "5/5 [==============================] - 0s 3ms/step - loss: 0.4732 - accuracy: 0.8571\n",
      "Epoch 6/10\n",
      "5/5 [==============================] - 0s 3ms/step - loss: 0.4297 - accuracy: 0.8776\n",
      "Epoch 7/10\n",
      "5/5 [==============================] - 0s 3ms/step - loss: 0.3866 - accuracy: 0.9184\n",
      "Epoch 8/10\n",
      "5/5 [==============================] - 0s 3ms/step - loss: 0.3418 - accuracy: 0.9388\n",
      "Epoch 9/10\n",
      "5/5 [==============================] - 0s 3ms/step - loss: 0.3021 - accuracy: 0.9388\n",
      "Epoch 10/10\n",
      "5/5 [==============================] - 0s 3ms/step - loss: 0.2660 - accuracy: 0.9388\n"
     ]
    },
    {
     "data": {
      "text/plain": [
       "<keras.src.callbacks.History at 0x1ef1afc18d0>"
      ]
     },
     "execution_count": 68,
     "metadata": {},
     "output_type": "execute_result"
    }
   ],
   "source": [
    "cls.fit(x2_train,y2_train,batch_size=10,epochs=10)"
   ]
  },
  {
   "cell_type": "code",
   "execution_count": 69,
   "id": "3c0aff74",
   "metadata": {
    "scrolled": true
   },
   "outputs": [
    {
     "name": "stdout",
     "output_type": "stream",
     "text": [
      "WARNING:tensorflow:5 out of the last 26 calls to <function Model.make_predict_function.<locals>.predict_function at 0x000001EF1678A980> triggered tf.function retracing. Tracing is expensive and the excessive number of tracings could be due to (1) creating @tf.function repeatedly in a loop, (2) passing tensors with different shapes, (3) passing Python objects instead of tensors. For (1), please define your @tf.function outside of the loop. For (2), @tf.function has reduce_retracing=True option that can avoid unnecessary retracing. For (3), please refer to https://www.tensorflow.org/guide/function#controlling_retracing and https://www.tensorflow.org/api_docs/python/tf/function for  more details.\n",
      "1/1 [==============================] - 0s 123ms/step\n"
     ]
    },
    {
     "data": {
      "text/plain": [
       "array([[ True],\n",
       "       [False],\n",
       "       [False],\n",
       "       [False],\n",
       "       [ True],\n",
       "       [False],\n",
       "       [False],\n",
       "       [ True],\n",
       "       [ True],\n",
       "       [ True],\n",
       "       [False],\n",
       "       [ True],\n",
       "       [False],\n",
       "       [False],\n",
       "       [ True],\n",
       "       [ True],\n",
       "       [False],\n",
       "       [ True],\n",
       "       [False],\n",
       "       [ True],\n",
       "       [False],\n",
       "       [ True],\n",
       "       [ True],\n",
       "       [ True],\n",
       "       [False],\n",
       "       [ True],\n",
       "       [ True],\n",
       "       [ True],\n",
       "       [False],\n",
       "       [ True]])"
      ]
     },
     "execution_count": 69,
     "metadata": {},
     "output_type": "execute_result"
    }
   ],
   "source": [
    "y2_pred = cls.predict(x2_test)\n",
    "y2_pred = (y2_pred>0.5)\n",
    "y2_pred\n"
   ]
  },
  {
   "cell_type": "code",
   "execution_count": 70,
   "id": "203cefc3",
   "metadata": {
    "scrolled": true
   },
   "outputs": [
    {
     "data": {
      "text/plain": [
       "array([[13,  4],\n",
       "       [ 0, 13]], dtype=int64)"
      ]
     },
     "execution_count": 70,
     "metadata": {},
     "output_type": "execute_result"
    }
   ],
   "source": [
    "from sklearn.metrics import confusion_matrix\n",
    "confusion_metric = confusion_matrix(y2_test,y2_pred)\n",
    "confusion_metric"
   ]
  },
  {
   "cell_type": "code",
   "execution_count": 71,
   "id": "40b29b0c",
   "metadata": {},
   "outputs": [
    {
     "data": {
      "text/plain": [
       "0.8666666666666667"
      ]
     },
     "execution_count": 71,
     "metadata": {},
     "output_type": "execute_result"
    }
   ],
   "source": [
    "from sklearn.metrics import accuracy_score\n",
    "accuracy = accuracy_score(y2_test,y2_pred)\n",
    "accuracy"
   ]
  },
  {
   "cell_type": "code",
   "execution_count": 72,
   "id": "f333f83d",
   "metadata": {},
   "outputs": [
    {
     "name": "stdout",
     "output_type": "stream",
     "text": [
      "1/1 [==============================] - 0s 168ms/step - loss: 0.3779 - accuracy: 0.8667\n"
     ]
    },
    {
     "data": {
      "text/plain": [
       "[0.3779250979423523, 0.8666666746139526]"
      ]
     },
     "execution_count": 72,
     "metadata": {},
     "output_type": "execute_result"
    }
   ],
   "source": [
    "cls.evaluate(x2_test,y2_test)"
   ]
  },
  {
   "cell_type": "code",
   "execution_count": 73,
   "id": "b8a2e46f",
   "metadata": {},
   "outputs": [
    {
     "name": "stdout",
     "output_type": "stream",
     "text": [
      "Model: \"sequential\"\n",
      "_________________________________________________________________\n",
      " Layer (type)                Output Shape              Param #   \n",
      "=================================================================\n",
      " dense (Dense)               (None, 160)               1280      \n",
      "                                                                 \n",
      " dense_1 (Dense)             (None, 70)                11270     \n",
      "                                                                 \n",
      " dense_2 (Dense)             (None, 50)                3550      \n",
      "                                                                 \n",
      " dense_3 (Dense)             (None, 22)                1122      \n",
      "                                                                 \n",
      "=================================================================\n",
      "Total params: 17222 (67.27 KB)\n",
      "Trainable params: 17222 (67.27 KB)\n",
      "Non-trainable params: 0 (0.00 Byte)\n",
      "_________________________________________________________________\n",
      "None\n"
     ]
    }
   ],
   "source": [
    "print(classifier.summary())"
   ]
  },
  {
   "cell_type": "code",
   "execution_count": 74,
   "id": "06bbe40d",
   "metadata": {},
   "outputs": [
    {
     "name": "stdout",
     "output_type": "stream",
     "text": [
      "Model: \"sequential_4\"\n",
      "_________________________________________________________________\n",
      " Layer (type)                Output Shape              Param #   \n",
      "=================================================================\n",
      " dense_14 (Dense)            (None, 50)                850       \n",
      "                                                                 \n",
      " dense_15 (Dense)            (None, 24)                1224      \n",
      "                                                                 \n",
      " dense_16 (Dense)            (None, 12)                300       \n",
      "                                                                 \n",
      " dense_17 (Dense)            (None, 1)                 13        \n",
      "                                                                 \n",
      "=================================================================\n",
      "Total params: 2387 (9.32 KB)\n",
      "Trainable params: 2387 (9.32 KB)\n",
      "Non-trainable params: 0 (0.00 Byte)\n",
      "_________________________________________________________________\n",
      "None\n"
     ]
    }
   ],
   "source": [
    "print(cls.summary())"
   ]
  },
  {
   "cell_type": "code",
   "execution_count": 34,
   "id": "11e4970f",
   "metadata": {},
   "outputs": [],
   "source": [
    "import matplotlib.pyplot as plt"
   ]
  },
  {
   "cell_type": "code",
   "execution_count": 35,
   "id": "6908c5f0",
   "metadata": {
    "scrolled": true
   },
   "outputs": [
    {
     "name": "stdout",
     "output_type": "stream",
     "text": [
      "Epoch 1/10\n",
      "34/34 [==============================] - 1s 23ms/step - loss: 0.1125 - accuracy: 0.9666 - val_loss: 396.6147 - val_accuracy: 0.1342\n",
      "Epoch 2/10\n",
      "34/34 [==============================] - 0s 8ms/step - loss: 0.0996 - accuracy: 0.9685 - val_loss: 417.0146 - val_accuracy: 0.1494\n",
      "Epoch 3/10\n",
      "34/34 [==============================] - 0s 8ms/step - loss: 0.0943 - accuracy: 0.9712 - val_loss: 425.7809 - val_accuracy: 0.1537\n",
      "Epoch 4/10\n",
      "34/34 [==============================] - 0s 8ms/step - loss: 0.0860 - accuracy: 0.9768 - val_loss: 451.7522 - val_accuracy: 0.1537\n",
      "Epoch 5/10\n",
      "34/34 [==============================] - 0s 8ms/step - loss: 0.0780 - accuracy: 0.9759 - val_loss: 479.3191 - val_accuracy: 0.1126\n",
      "Epoch 6/10\n",
      "34/34 [==============================] - 0s 8ms/step - loss: 0.0660 - accuracy: 0.9777 - val_loss: 471.0560 - val_accuracy: 0.1429\n",
      "Epoch 7/10\n",
      "34/34 [==============================] - 0s 8ms/step - loss: 0.0704 - accuracy: 0.9768 - val_loss: 492.5124 - val_accuracy: 0.1515\n",
      "Epoch 8/10\n",
      "34/34 [==============================] - 0s 8ms/step - loss: 0.0624 - accuracy: 0.9814 - val_loss: 522.1058 - val_accuracy: 0.1385\n",
      "Epoch 9/10\n",
      "34/34 [==============================] - 0s 7ms/step - loss: 0.0613 - accuracy: 0.9787 - val_loss: 532.2708 - val_accuracy: 0.1342\n",
      "Epoch 10/10\n",
      "34/34 [==============================] - 0s 7ms/step - loss: 0.0756 - accuracy: 0.9712 - val_loss: 527.4650 - val_accuracy: 0.1429\n"
     ]
    }
   ],
   "source": [
    "history1 = classifier.fit(x1_train,y1_train,epochs=10,validation_data=(x1_val,y1_val))"
   ]
  },
  {
   "cell_type": "code",
   "execution_count": 38,
   "id": "1d97e67e",
   "metadata": {},
   "outputs": [
    {
     "name": "stdout",
     "output_type": "stream",
     "text": [
      "Epoch 1/10\n",
      "4/4 [==============================] - 2s 176ms/step - loss: 17.8641 - accuracy: 0.5000 - val_loss: 12.2338 - val_accuracy: 0.5238\n",
      "Epoch 2/10\n",
      "4/4 [==============================] - 0s 31ms/step - loss: 11.1873 - accuracy: 0.5100 - val_loss: 5.1284 - val_accuracy: 0.6190\n",
      "Epoch 3/10\n",
      "4/4 [==============================] - 0s 35ms/step - loss: 4.4982 - accuracy: 0.5700 - val_loss: 3.7950 - val_accuracy: 0.4762\n",
      "Epoch 4/10\n",
      "4/4 [==============================] - 0s 29ms/step - loss: 3.9030 - accuracy: 0.6100 - val_loss: 5.6097 - val_accuracy: 0.5238\n",
      "Epoch 5/10\n",
      "4/4 [==============================] - 0s 28ms/step - loss: 4.4059 - accuracy: 0.5900 - val_loss: 3.4622 - val_accuracy: 0.4762\n",
      "Epoch 6/10\n",
      "4/4 [==============================] - 0s 27ms/step - loss: 2.5006 - accuracy: 0.6200 - val_loss: 1.7698 - val_accuracy: 0.5714\n",
      "Epoch 7/10\n",
      "4/4 [==============================] - 0s 27ms/step - loss: 1.9869 - accuracy: 0.6300 - val_loss: 1.8001 - val_accuracy: 0.7619\n",
      "Epoch 8/10\n",
      "4/4 [==============================] - 0s 26ms/step - loss: 2.1682 - accuracy: 0.6100 - val_loss: 1.1923 - val_accuracy: 0.7619\n",
      "Epoch 9/10\n",
      "4/4 [==============================] - 0s 28ms/step - loss: 1.2751 - accuracy: 0.6400 - val_loss: 0.4938 - val_accuracy: 0.8095\n",
      "Epoch 10/10\n",
      "4/4 [==============================] - 0s 31ms/step - loss: 0.9814 - accuracy: 0.7300 - val_loss: 1.0104 - val_accuracy: 0.6667\n"
     ]
    }
   ],
   "source": [
    "hist_soil = cls.fit(x2,y2,epochs=10,validation_data=(x2_val,y2_val))"
   ]
  },
  {
   "cell_type": "code",
   "execution_count": 39,
   "id": "6f7b5b8a",
   "metadata": {},
   "outputs": [
    {
     "data": {
      "text/plain": [
       "<matplotlib.legend.Legend at 0x1ef166aa090>"
      ]
     },
     "execution_count": 39,
     "metadata": {},
     "output_type": "execute_result"
    },
    {
     "data": {
      "image/png": "[encoded data removed]",
      "text/plain": [
       "<Figure size 1200x600 with 1 Axes>"
      ]
     },
     "metadata": {},
     "output_type": "display_data"
    }
   ],
   "source": [
    "plt.figure(figsize=(12, 6))\n",
    "plt.subplot(1, 2, 1)\n",
    "plt.plot(hist_soil.history['accuracy'])\n",
    "plt.plot(hist_soil.history['val_accuracy'])\n",
    "plt.title('Model Accuracy')\n",
    "plt.ylabel('Accuracy')\n",
    "plt.xlabel('Epoch')\n",
    "plt.legend(['Train', 'Test'], loc='upper left')"
   ]
  },
  {
   "cell_type": "code",
   "execution_count": 75,
   "id": "23b1efc6",
   "metadata": {},
   "outputs": [
    {
     "name": "stdout",
     "output_type": "stream",
     "text": [
      "              precision    recall  f1-score   support\n",
      "\n",
      "     Fertile       1.00      0.76      0.87        17\n",
      " Non Fertile       0.76      1.00      0.87        13\n",
      "\n",
      "    accuracy                           0.87        30\n",
      "   macro avg       0.88      0.88      0.87        30\n",
      "weighted avg       0.90      0.87      0.87        30\n",
      "\n"
     ]
    }
   ],
   "source": [
    "from sklearn.metrics import classification_report\n",
    "print(classification_report(y2_test,y2_pred,target_names=['Fertile','Non Fertile']))"
   ]
  },
  {
   "cell_type": "code",
   "execution_count": 41,
   "id": "23ab1fa0",
   "metadata": {},
   "outputs": [],
   "source": [
    "y1_pred = np.argmax(y1_pred,axis=1)"
   ]
  },
  {
   "cell_type": "code",
   "execution_count": 42,
   "id": "51f14487",
   "metadata": {},
   "outputs": [
    {
     "name": "stdout",
     "output_type": "stream",
     "text": [
      "              precision    recall  f1-score   support\n",
      "\n",
      "       apple       1.00      1.00      1.00        28\n",
      "      banana       1.00      1.00      1.00        30\n",
      "   blackgram       1.00      0.90      0.95        31\n",
      "    chickpea       1.00      1.00      1.00        34\n",
      "     coconut       0.96      1.00      0.98        26\n",
      "      coffee       0.97      1.00      0.98        29\n",
      "      cotton       1.00      0.93      0.96        28\n",
      "      grapes       1.00      1.00      1.00        30\n",
      "        jute       0.86      0.77      0.81        31\n",
      " kidneybeans       0.96      1.00      0.98        26\n",
      "      lentil       0.85      1.00      0.92        22\n",
      "       maize       0.93      1.00      0.96        27\n",
      "       mango       1.00      1.00      1.00        28\n",
      "   mothbeans       1.00      0.97      0.99        36\n",
      "    mungbean       1.00      1.00      1.00        29\n",
      "   muskmelon       0.97      1.00      0.98        30\n",
      "      orange       1.00      0.94      0.97        34\n",
      "      papaya       1.00      0.97      0.99        39\n",
      "  pigeonpeas       1.00      0.96      0.98        28\n",
      " pomegranate       0.94      1.00      0.97        32\n",
      "        rice       0.87      0.89      0.88        37\n",
      "  watermelon       1.00      1.00      1.00        25\n",
      "\n",
      "    accuracy                           0.97       660\n",
      "   macro avg       0.97      0.97      0.97       660\n",
      "weighted avg       0.97      0.97      0.97       660\n",
      "\n"
     ]
    }
   ],
   "source": [
    "from sklearn.metrics import classification_report\n",
    "print(classification_report(y1_test,y1_pred, target_names=['apple','banana','blackgram','chickpea','coconut','coffee','cotton','grapes','jute','kidneybeans','lentil','maize','mango','mothbeans','mungbean','muskmelon','orange','papaya','pigeonpeas','pomegranate','rice','watermelon']))"
   ]
  },
  {
   "cell_type": "code",
   "execution_count": 43,
   "id": "bcb0bd32",
   "metadata": {},
   "outputs": [],
   "source": [
    "report1 = classification_report(y1_test, y1_pred, output_dict=True)\n",
    "accuracy = report1['accuracy']\n",
    "macro_precision =  report1['macro avg']['precision'] \n",
    "macro_recall = report1['macro avg']['recall']    \n",
    "macro_f1 = report1['macro avg']['f1-score']"
   ]
  },
  {
   "cell_type": "code",
   "execution_count": 44,
   "id": "7e76c843",
   "metadata": {},
   "outputs": [
    {
     "name": "stdout",
     "output_type": "stream",
     "text": [
      "Accuracy:  0.9681818181818181 \n",
      " Precision:  0.9683756016978001 \n",
      " Recall_score:  0.9704511843980534 \n",
      " F1_score:  0.9686222438765022\n"
     ]
    }
   ],
   "source": [
    "print(\"Accuracy: \",accuracy,\"\\n\",\"Precision: \",macro_precision,\"\\n\",\"Recall_score: \",macro_recall,\"\\n\",\"F1_score: \",macro_f1)"
   ]
  },
  {
   "cell_type": "code",
   "execution_count": 76,
   "id": "1ba1aec8",
   "metadata": {},
   "outputs": [],
   "source": [
    "report2= classification_report(y2_test, y2_pred, output_dict=True)\n",
    "accuracy = report2['accuracy']\n",
    "macro_precision =  report2['macro avg']['precision'] \n",
    "macro_recall = report2['macro avg']['recall']    \n",
    "macro_f1 = report2['macro avg']['f1-score']"
   ]
  },
  {
   "cell_type": "code",
   "execution_count": 77,
   "id": "cb594864",
   "metadata": {},
   "outputs": [
    {
     "name": "stdout",
     "output_type": "stream",
     "text": [
      "Accuracy:  0.8666666666666667 \n",
      " Precision:  0.8823529411764706 \n",
      " Recall_score:  0.8823529411764706 \n",
      " F1_score:  0.8666666666666666\n"
     ]
    }
   ],
   "source": [
    "print(\"Accuracy: \",accuracy,\"\\n\",\"Precision: \",macro_precision,\"\\n\",\"Recall_score: \",macro_recall,\"\\n\",\"F1_score: \",macro_f1)"
   ]
  },
  {
   "cell_type": "code",
   "execution_count": null,
   "id": "f555f807",
   "metadata": {},
   "outputs": [],
   "source": []
  },
  {
   "cell_type": "code",
   "execution_count": null,
   "id": "f2417ad5",
   "metadata": {},
   "outputs": [],
   "source": []
  },
  {
   "cell_type": "code",
   "execution_count": null,
   "id": "e591f1db",
   "metadata": {},
   "outputs": [],
   "source": []
  }
 ],
 "metadata": {
  "kernelspec": {
   "display_name": "Python 3 (ipykernel)",
   "language": "python",
   "name": "python3"
  },
  "language_info": {
   "codemirror_mode": {
    "name": "ipython",
    "version": 3
   },
   "file_extension": ".py",
   "mimetype": "text/x-python",
   "name": "python",
   "nbconvert_exporter": "python",
   "pygments_lexer": "ipython3",
   "version": "3.11.5"
  }
 },
 "nbformat": 4,
 "nbformat_minor": 5
}
