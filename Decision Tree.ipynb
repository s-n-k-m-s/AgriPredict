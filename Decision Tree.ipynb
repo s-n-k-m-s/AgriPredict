{
 "cells": [
  {
   "cell_type": "code",
   "execution_count": 1,
   "id": "0dc322f9",
   "metadata": {},
   "outputs": [],
   "source": [
    "import pandas as pd\n",
    "import numpy as np"
   ]
  },
  {
   "cell_type": "code",
   "execution_count": 2,
   "id": "f8417b06",
   "metadata": {},
   "outputs": [],
   "source": [
    "crop_dataset = pd.read_csv(\"Crop_recommendation.csv\")"
   ]
  },
  {
   "cell_type": "code",
   "execution_count": 3,
   "id": "6ad3d321",
   "metadata": {},
   "outputs": [],
   "source": [
    "soil_dataset = pd.read_csv(\"Soil.csv\")"
   ]
  },
  {
   "cell_type": "code",
   "execution_count": 4,
   "id": "6d8a0514",
   "metadata": {},
   "outputs": [
    {
     "data": {
      "text/html": [
       "<div>\n",
       "<style scoped>\n",
       "    .dataframe tbody tr th:only-of-type {\n",
       "        vertical-align: middle;\n",
       "    }\n",
       "\n",
       "    .dataframe tbody tr th {\n",
       "        vertical-align: top;\n",
       "    }\n",
       "\n",
       "    .dataframe thead th {\n",
       "        text-align: right;\n",
       "    }\n",
       "</style>\n",
       "<table border=\"1\" class=\"dataframe\">\n",
       "  <thead>\n",
       "    <tr style=\"text-align: right;\">\n",
       "      <th></th>\n",
       "      <th>N</th>\n",
       "      <th>P</th>\n",
       "      <th>K</th>\n",
       "      <th>temperature</th>\n",
       "      <th>humidity</th>\n",
       "      <th>ph</th>\n",
       "      <th>rainfall</th>\n",
       "      <th>label</th>\n",
       "    </tr>\n",
       "  </thead>\n",
       "  <tbody>\n",
       "    <tr>\n",
       "      <th>0</th>\n",
       "      <td>90</td>\n",
       "      <td>42</td>\n",
       "      <td>43</td>\n",
       "      <td>20.879744</td>\n",
       "      <td>82.002744</td>\n",
       "      <td>6.502985</td>\n",
       "      <td>202.935536</td>\n",
       "      <td>rice</td>\n",
       "    </tr>\n",
       "    <tr>\n",
       "      <th>1</th>\n",
       "      <td>85</td>\n",
       "      <td>58</td>\n",
       "      <td>41</td>\n",
       "      <td>21.770462</td>\n",
       "      <td>80.319644</td>\n",
       "      <td>7.038096</td>\n",
       "      <td>226.655537</td>\n",
       "      <td>rice</td>\n",
       "    </tr>\n",
       "    <tr>\n",
       "      <th>2</th>\n",
       "      <td>60</td>\n",
       "      <td>55</td>\n",
       "      <td>44</td>\n",
       "      <td>23.004459</td>\n",
       "      <td>82.320763</td>\n",
       "      <td>7.840207</td>\n",
       "      <td>263.964248</td>\n",
       "      <td>rice</td>\n",
       "    </tr>\n",
       "    <tr>\n",
       "      <th>3</th>\n",
       "      <td>74</td>\n",
       "      <td>35</td>\n",
       "      <td>40</td>\n",
       "      <td>26.491096</td>\n",
       "      <td>80.158363</td>\n",
       "      <td>6.980401</td>\n",
       "      <td>242.864034</td>\n",
       "      <td>rice</td>\n",
       "    </tr>\n",
       "    <tr>\n",
       "      <th>4</th>\n",
       "      <td>78</td>\n",
       "      <td>42</td>\n",
       "      <td>42</td>\n",
       "      <td>20.130175</td>\n",
       "      <td>81.604873</td>\n",
       "      <td>7.628473</td>\n",
       "      <td>262.717340</td>\n",
       "      <td>rice</td>\n",
       "    </tr>\n",
       "    <tr>\n",
       "      <th>...</th>\n",
       "      <td>...</td>\n",
       "      <td>...</td>\n",
       "      <td>...</td>\n",
       "      <td>...</td>\n",
       "      <td>...</td>\n",
       "      <td>...</td>\n",
       "      <td>...</td>\n",
       "      <td>...</td>\n",
       "    </tr>\n",
       "    <tr>\n",
       "      <th>2195</th>\n",
       "      <td>107</td>\n",
       "      <td>34</td>\n",
       "      <td>32</td>\n",
       "      <td>26.774637</td>\n",
       "      <td>66.413269</td>\n",
       "      <td>6.780064</td>\n",
       "      <td>177.774507</td>\n",
       "      <td>coffee</td>\n",
       "    </tr>\n",
       "    <tr>\n",
       "      <th>2196</th>\n",
       "      <td>99</td>\n",
       "      <td>15</td>\n",
       "      <td>27</td>\n",
       "      <td>27.417112</td>\n",
       "      <td>56.636362</td>\n",
       "      <td>6.086922</td>\n",
       "      <td>127.924610</td>\n",
       "      <td>coffee</td>\n",
       "    </tr>\n",
       "    <tr>\n",
       "      <th>2197</th>\n",
       "      <td>118</td>\n",
       "      <td>33</td>\n",
       "      <td>30</td>\n",
       "      <td>24.131797</td>\n",
       "      <td>67.225123</td>\n",
       "      <td>6.362608</td>\n",
       "      <td>173.322839</td>\n",
       "      <td>coffee</td>\n",
       "    </tr>\n",
       "    <tr>\n",
       "      <th>2198</th>\n",
       "      <td>117</td>\n",
       "      <td>32</td>\n",
       "      <td>34</td>\n",
       "      <td>26.272418</td>\n",
       "      <td>52.127394</td>\n",
       "      <td>6.758793</td>\n",
       "      <td>127.175293</td>\n",
       "      <td>coffee</td>\n",
       "    </tr>\n",
       "    <tr>\n",
       "      <th>2199</th>\n",
       "      <td>104</td>\n",
       "      <td>18</td>\n",
       "      <td>30</td>\n",
       "      <td>23.603016</td>\n",
       "      <td>60.396475</td>\n",
       "      <td>6.779833</td>\n",
       "      <td>140.937041</td>\n",
       "      <td>coffee</td>\n",
       "    </tr>\n",
       "  </tbody>\n",
       "</table>\n",
       "<p>2200 rows × 8 columns</p>\n",
       "</div>"
      ],
      "text/plain": [
       "        N   P   K  temperature   humidity        ph    rainfall   label\n",
       "0      90  42  43    20.879744  82.002744  6.502985  202.935536    rice\n",
       "1      85  58  41    21.770462  80.319644  7.038096  226.655537    rice\n",
       "2      60  55  44    23.004459  82.320763  7.840207  263.964248    rice\n",
       "3      74  35  40    26.491096  80.158363  6.980401  242.864034    rice\n",
       "4      78  42  42    20.130175  81.604873  7.628473  262.717340    rice\n",
       "...   ...  ..  ..          ...        ...       ...         ...     ...\n",
       "2195  107  34  32    26.774637  66.413269  6.780064  177.774507  coffee\n",
       "2196   99  15  27    27.417112  56.636362  6.086922  127.924610  coffee\n",
       "2197  118  33  30    24.131797  67.225123  6.362608  173.322839  coffee\n",
       "2198  117  32  34    26.272418  52.127394  6.758793  127.175293  coffee\n",
       "2199  104  18  30    23.603016  60.396475  6.779833  140.937041  coffee\n",
       "\n",
       "[2200 rows x 8 columns]"
      ]
     },
     "execution_count": 4,
     "metadata": {},
     "output_type": "execute_result"
    }
   ],
   "source": [
    "crop_dataset"
   ]
  },
  {
   "cell_type": "code",
   "execution_count": 5,
   "id": "88e28488",
   "metadata": {},
   "outputs": [
    {
     "data": {
      "text/html": [
       "<div>\n",
       "<style scoped>\n",
       "    .dataframe tbody tr th:only-of-type {\n",
       "        vertical-align: middle;\n",
       "    }\n",
       "\n",
       "    .dataframe tbody tr th {\n",
       "        vertical-align: top;\n",
       "    }\n",
       "\n",
       "    .dataframe thead th {\n",
       "        text-align: right;\n",
       "    }\n",
       "</style>\n",
       "<table border=\"1\" class=\"dataframe\">\n",
       "  <thead>\n",
       "    <tr style=\"text-align: right;\">\n",
       "      <th></th>\n",
       "      <th>pH</th>\n",
       "      <th>EC</th>\n",
       "      <th>OC</th>\n",
       "      <th>OM</th>\n",
       "      <th>N</th>\n",
       "      <th>P</th>\n",
       "      <th>K</th>\n",
       "      <th>Zn</th>\n",
       "      <th>Fe</th>\n",
       "      <th>Cu</th>\n",
       "      <th>Mn</th>\n",
       "      <th>Sand</th>\n",
       "      <th>Silt</th>\n",
       "      <th>Clay</th>\n",
       "      <th>CaCO3</th>\n",
       "      <th>CEC</th>\n",
       "      <th>Output</th>\n",
       "    </tr>\n",
       "  </thead>\n",
       "  <tbody>\n",
       "    <tr>\n",
       "      <th>0</th>\n",
       "      <td>7.74</td>\n",
       "      <td>0.40</td>\n",
       "      <td>0.01</td>\n",
       "      <td>0.01</td>\n",
       "      <td>75</td>\n",
       "      <td>20.0</td>\n",
       "      <td>279</td>\n",
       "      <td>0.48</td>\n",
       "      <td>6.4</td>\n",
       "      <td>0.21</td>\n",
       "      <td>4.7</td>\n",
       "      <td>84.3</td>\n",
       "      <td>6.8</td>\n",
       "      <td>8.9</td>\n",
       "      <td>6.72</td>\n",
       "      <td>7.81</td>\n",
       "      <td>Fertile</td>\n",
       "    </tr>\n",
       "    <tr>\n",
       "      <th>1</th>\n",
       "      <td>9.02</td>\n",
       "      <td>0.31</td>\n",
       "      <td>0.02</td>\n",
       "      <td>0.03</td>\n",
       "      <td>85</td>\n",
       "      <td>15.7</td>\n",
       "      <td>247</td>\n",
       "      <td>0.27</td>\n",
       "      <td>6.4</td>\n",
       "      <td>0.16</td>\n",
       "      <td>5.6</td>\n",
       "      <td>90.4</td>\n",
       "      <td>3.9</td>\n",
       "      <td>5.7</td>\n",
       "      <td>4.61</td>\n",
       "      <td>7.19</td>\n",
       "      <td>Fertile</td>\n",
       "    </tr>\n",
       "    <tr>\n",
       "      <th>2</th>\n",
       "      <td>7.80</td>\n",
       "      <td>0.17</td>\n",
       "      <td>0.02</td>\n",
       "      <td>0.03</td>\n",
       "      <td>77</td>\n",
       "      <td>35.6</td>\n",
       "      <td>265</td>\n",
       "      <td>0.46</td>\n",
       "      <td>6.2</td>\n",
       "      <td>0.51</td>\n",
       "      <td>6.1</td>\n",
       "      <td>84.5</td>\n",
       "      <td>6.9</td>\n",
       "      <td>8.6</td>\n",
       "      <td>1.53</td>\n",
       "      <td>12.32</td>\n",
       "      <td>Fertile</td>\n",
       "    </tr>\n",
       "    <tr>\n",
       "      <th>3</th>\n",
       "      <td>8.36</td>\n",
       "      <td>0.02</td>\n",
       "      <td>0.03</td>\n",
       "      <td>0.05</td>\n",
       "      <td>106</td>\n",
       "      <td>6.4</td>\n",
       "      <td>127</td>\n",
       "      <td>0.50</td>\n",
       "      <td>3.1</td>\n",
       "      <td>0.28</td>\n",
       "      <td>2.3</td>\n",
       "      <td>93.9</td>\n",
       "      <td>1.7</td>\n",
       "      <td>4.4</td>\n",
       "      <td>0.00</td>\n",
       "      <td>1.60</td>\n",
       "      <td>Non Fertile</td>\n",
       "    </tr>\n",
       "    <tr>\n",
       "      <th>4</th>\n",
       "      <td>8.36</td>\n",
       "      <td>1.08</td>\n",
       "      <td>0.03</td>\n",
       "      <td>0.05</td>\n",
       "      <td>96</td>\n",
       "      <td>10.5</td>\n",
       "      <td>96</td>\n",
       "      <td>0.31</td>\n",
       "      <td>3.2</td>\n",
       "      <td>0.23</td>\n",
       "      <td>4.1</td>\n",
       "      <td>91.5</td>\n",
       "      <td>4.1</td>\n",
       "      <td>4.4</td>\n",
       "      <td>9.08</td>\n",
       "      <td>7.21</td>\n",
       "      <td>Non Fertile</td>\n",
       "    </tr>\n",
       "    <tr>\n",
       "      <th>...</th>\n",
       "      <td>...</td>\n",
       "      <td>...</td>\n",
       "      <td>...</td>\n",
       "      <td>...</td>\n",
       "      <td>...</td>\n",
       "      <td>...</td>\n",
       "      <td>...</td>\n",
       "      <td>...</td>\n",
       "      <td>...</td>\n",
       "      <td>...</td>\n",
       "      <td>...</td>\n",
       "      <td>...</td>\n",
       "      <td>...</td>\n",
       "      <td>...</td>\n",
       "      <td>...</td>\n",
       "      <td>...</td>\n",
       "      <td>...</td>\n",
       "    </tr>\n",
       "    <tr>\n",
       "      <th>95</th>\n",
       "      <td>9.21</td>\n",
       "      <td>0.14</td>\n",
       "      <td>0.62</td>\n",
       "      <td>1.06</td>\n",
       "      <td>278</td>\n",
       "      <td>9.8</td>\n",
       "      <td>165</td>\n",
       "      <td>0.18</td>\n",
       "      <td>8.6</td>\n",
       "      <td>0.57</td>\n",
       "      <td>5.8</td>\n",
       "      <td>88.2</td>\n",
       "      <td>2.4</td>\n",
       "      <td>9.4</td>\n",
       "      <td>4.23</td>\n",
       "      <td>8.81</td>\n",
       "      <td>Fertile</td>\n",
       "    </tr>\n",
       "    <tr>\n",
       "      <th>96</th>\n",
       "      <td>7.50</td>\n",
       "      <td>0.22</td>\n",
       "      <td>0.68</td>\n",
       "      <td>1.17</td>\n",
       "      <td>272</td>\n",
       "      <td>9.5</td>\n",
       "      <td>139</td>\n",
       "      <td>0.72</td>\n",
       "      <td>2.6</td>\n",
       "      <td>0.12</td>\n",
       "      <td>1.8</td>\n",
       "      <td>95.4</td>\n",
       "      <td>1.4</td>\n",
       "      <td>3.2</td>\n",
       "      <td>0.00</td>\n",
       "      <td>5.58</td>\n",
       "      <td>Non Fertile</td>\n",
       "    </tr>\n",
       "    <tr>\n",
       "      <th>97</th>\n",
       "      <td>8.26</td>\n",
       "      <td>0.25</td>\n",
       "      <td>0.71</td>\n",
       "      <td>1.22</td>\n",
       "      <td>277</td>\n",
       "      <td>11.5</td>\n",
       "      <td>264</td>\n",
       "      <td>0.36</td>\n",
       "      <td>7.6</td>\n",
       "      <td>0.07</td>\n",
       "      <td>0.8</td>\n",
       "      <td>90.7</td>\n",
       "      <td>2.5</td>\n",
       "      <td>6.8</td>\n",
       "      <td>3.85</td>\n",
       "      <td>7.26</td>\n",
       "      <td>Fertile</td>\n",
       "    </tr>\n",
       "    <tr>\n",
       "      <th>98</th>\n",
       "      <td>8.12</td>\n",
       "      <td>0.14</td>\n",
       "      <td>0.73</td>\n",
       "      <td>1.25</td>\n",
       "      <td>265</td>\n",
       "      <td>4.6</td>\n",
       "      <td>283</td>\n",
       "      <td>0.38</td>\n",
       "      <td>3.7</td>\n",
       "      <td>0.18</td>\n",
       "      <td>0.8</td>\n",
       "      <td>86.0</td>\n",
       "      <td>6.7</td>\n",
       "      <td>7.3</td>\n",
       "      <td>0.00</td>\n",
       "      <td>3.10</td>\n",
       "      <td>Non Fertile</td>\n",
       "    </tr>\n",
       "    <tr>\n",
       "      <th>99</th>\n",
       "      <td>7.31</td>\n",
       "      <td>0.46</td>\n",
       "      <td>0.74</td>\n",
       "      <td>1.27</td>\n",
       "      <td>277</td>\n",
       "      <td>32.4</td>\n",
       "      <td>241</td>\n",
       "      <td>0.27</td>\n",
       "      <td>8.2</td>\n",
       "      <td>0.23</td>\n",
       "      <td>4.2</td>\n",
       "      <td>80.5</td>\n",
       "      <td>6.8</td>\n",
       "      <td>12.7</td>\n",
       "      <td>4.86</td>\n",
       "      <td>6.51</td>\n",
       "      <td>Fertile</td>\n",
       "    </tr>\n",
       "  </tbody>\n",
       "</table>\n",
       "<p>100 rows × 17 columns</p>\n",
       "</div>"
      ],
      "text/plain": [
       "      pH    EC    OC    OM    N     P    K    Zn   Fe    Cu   Mn  Sand  Silt  \\\n",
       "0   7.74  0.40  0.01  0.01   75  20.0  279  0.48  6.4  0.21  4.7  84.3   6.8   \n",
       "1   9.02  0.31  0.02  0.03   85  15.7  247  0.27  6.4  0.16  5.6  90.4   3.9   \n",
       "2   7.80  0.17  0.02  0.03   77  35.6  265  0.46  6.2  0.51  6.1  84.5   6.9   \n",
       "3   8.36  0.02  0.03  0.05  106   6.4  127  0.50  3.1  0.28  2.3  93.9   1.7   \n",
       "4   8.36  1.08  0.03  0.05   96  10.5   96  0.31  3.2  0.23  4.1  91.5   4.1   \n",
       "..   ...   ...   ...   ...  ...   ...  ...   ...  ...   ...  ...   ...   ...   \n",
       "95  9.21  0.14  0.62  1.06  278   9.8  165  0.18  8.6  0.57  5.8  88.2   2.4   \n",
       "96  7.50  0.22  0.68  1.17  272   9.5  139  0.72  2.6  0.12  1.8  95.4   1.4   \n",
       "97  8.26  0.25  0.71  1.22  277  11.5  264  0.36  7.6  0.07  0.8  90.7   2.5   \n",
       "98  8.12  0.14  0.73  1.25  265   4.6  283  0.38  3.7  0.18  0.8  86.0   6.7   \n",
       "99  7.31  0.46  0.74  1.27  277  32.4  241  0.27  8.2  0.23  4.2  80.5   6.8   \n",
       "\n",
       "    Clay  CaCO3    CEC       Output  \n",
       "0    8.9   6.72   7.81      Fertile  \n",
       "1    5.7   4.61   7.19      Fertile  \n",
       "2    8.6   1.53  12.32      Fertile  \n",
       "3    4.4   0.00   1.60  Non Fertile  \n",
       "4    4.4   9.08   7.21  Non Fertile  \n",
       "..   ...    ...    ...          ...  \n",
       "95   9.4   4.23   8.81      Fertile  \n",
       "96   3.2   0.00   5.58  Non Fertile  \n",
       "97   6.8   3.85   7.26      Fertile  \n",
       "98   7.3   0.00   3.10  Non Fertile  \n",
       "99  12.7   4.86   6.51      Fertile  \n",
       "\n",
       "[100 rows x 17 columns]"
      ]
     },
     "execution_count": 5,
     "metadata": {},
     "output_type": "execute_result"
    }
   ],
   "source": [
    "soil_dataset"
   ]
  },
  {
   "cell_type": "code",
   "execution_count": 6,
   "id": "031e046d",
   "metadata": {},
   "outputs": [
    {
     "data": {
      "text/plain": [
       "(2200, 8)"
      ]
     },
     "execution_count": 6,
     "metadata": {},
     "output_type": "execute_result"
    }
   ],
   "source": [
    "crop_dataset.shape"
   ]
  },
  {
   "cell_type": "code",
   "execution_count": 7,
   "id": "2c83c687",
   "metadata": {},
   "outputs": [
    {
     "data": {
      "text/plain": [
       "(100, 17)"
      ]
     },
     "execution_count": 7,
     "metadata": {},
     "output_type": "execute_result"
    }
   ],
   "source": [
    "soil_dataset.shape"
   ]
  },
  {
   "cell_type": "code",
   "execution_count": 8,
   "id": "a59a8eb4",
   "metadata": {
    "scrolled": false
   },
   "outputs": [
    {
     "data": {
      "text/html": [
       "<div>\n",
       "<style scoped>\n",
       "    .dataframe tbody tr th:only-of-type {\n",
       "        vertical-align: middle;\n",
       "    }\n",
       "\n",
       "    .dataframe tbody tr th {\n",
       "        vertical-align: top;\n",
       "    }\n",
       "\n",
       "    .dataframe thead th {\n",
       "        text-align: right;\n",
       "    }\n",
       "</style>\n",
       "<table border=\"1\" class=\"dataframe\">\n",
       "  <thead>\n",
       "    <tr style=\"text-align: right;\">\n",
       "      <th></th>\n",
       "      <th>N</th>\n",
       "      <th>P</th>\n",
       "      <th>K</th>\n",
       "      <th>temperature</th>\n",
       "      <th>humidity</th>\n",
       "      <th>ph</th>\n",
       "      <th>rainfall</th>\n",
       "      <th>label</th>\n",
       "    </tr>\n",
       "  </thead>\n",
       "  <tbody>\n",
       "    <tr>\n",
       "      <th>0</th>\n",
       "      <td>False</td>\n",
       "      <td>False</td>\n",
       "      <td>False</td>\n",
       "      <td>False</td>\n",
       "      <td>False</td>\n",
       "      <td>False</td>\n",
       "      <td>False</td>\n",
       "      <td>False</td>\n",
       "    </tr>\n",
       "    <tr>\n",
       "      <th>1</th>\n",
       "      <td>False</td>\n",
       "      <td>False</td>\n",
       "      <td>False</td>\n",
       "      <td>False</td>\n",
       "      <td>False</td>\n",
       "      <td>False</td>\n",
       "      <td>False</td>\n",
       "      <td>False</td>\n",
       "    </tr>\n",
       "    <tr>\n",
       "      <th>2</th>\n",
       "      <td>False</td>\n",
       "      <td>False</td>\n",
       "      <td>False</td>\n",
       "      <td>False</td>\n",
       "      <td>False</td>\n",
       "      <td>False</td>\n",
       "      <td>False</td>\n",
       "      <td>False</td>\n",
       "    </tr>\n",
       "    <tr>\n",
       "      <th>3</th>\n",
       "      <td>False</td>\n",
       "      <td>False</td>\n",
       "      <td>False</td>\n",
       "      <td>False</td>\n",
       "      <td>False</td>\n",
       "      <td>False</td>\n",
       "      <td>False</td>\n",
       "      <td>False</td>\n",
       "    </tr>\n",
       "    <tr>\n",
       "      <th>4</th>\n",
       "      <td>False</td>\n",
       "      <td>False</td>\n",
       "      <td>False</td>\n",
       "      <td>False</td>\n",
       "      <td>False</td>\n",
       "      <td>False</td>\n",
       "      <td>False</td>\n",
       "      <td>False</td>\n",
       "    </tr>\n",
       "    <tr>\n",
       "      <th>...</th>\n",
       "      <td>...</td>\n",
       "      <td>...</td>\n",
       "      <td>...</td>\n",
       "      <td>...</td>\n",
       "      <td>...</td>\n",
       "      <td>...</td>\n",
       "      <td>...</td>\n",
       "      <td>...</td>\n",
       "    </tr>\n",
       "    <tr>\n",
       "      <th>2195</th>\n",
       "      <td>False</td>\n",
       "      <td>False</td>\n",
       "      <td>False</td>\n",
       "      <td>False</td>\n",
       "      <td>False</td>\n",
       "      <td>False</td>\n",
       "      <td>False</td>\n",
       "      <td>False</td>\n",
       "    </tr>\n",
       "    <tr>\n",
       "      <th>2196</th>\n",
       "      <td>False</td>\n",
       "      <td>False</td>\n",
       "      <td>False</td>\n",
       "      <td>False</td>\n",
       "      <td>False</td>\n",
       "      <td>False</td>\n",
       "      <td>False</td>\n",
       "      <td>False</td>\n",
       "    </tr>\n",
       "    <tr>\n",
       "      <th>2197</th>\n",
       "      <td>False</td>\n",
       "      <td>False</td>\n",
       "      <td>False</td>\n",
       "      <td>False</td>\n",
       "      <td>False</td>\n",
       "      <td>False</td>\n",
       "      <td>False</td>\n",
       "      <td>False</td>\n",
       "    </tr>\n",
       "    <tr>\n",
       "      <th>2198</th>\n",
       "      <td>False</td>\n",
       "      <td>False</td>\n",
       "      <td>False</td>\n",
       "      <td>False</td>\n",
       "      <td>False</td>\n",
       "      <td>False</td>\n",
       "      <td>False</td>\n",
       "      <td>False</td>\n",
       "    </tr>\n",
       "    <tr>\n",
       "      <th>2199</th>\n",
       "      <td>False</td>\n",
       "      <td>False</td>\n",
       "      <td>False</td>\n",
       "      <td>False</td>\n",
       "      <td>False</td>\n",
       "      <td>False</td>\n",
       "      <td>False</td>\n",
       "      <td>False</td>\n",
       "    </tr>\n",
       "  </tbody>\n",
       "</table>\n",
       "<p>2200 rows × 8 columns</p>\n",
       "</div>"
      ],
      "text/plain": [
       "          N      P      K  temperature  humidity     ph  rainfall  label\n",
       "0     False  False  False        False     False  False     False  False\n",
       "1     False  False  False        False     False  False     False  False\n",
       "2     False  False  False        False     False  False     False  False\n",
       "3     False  False  False        False     False  False     False  False\n",
       "4     False  False  False        False     False  False     False  False\n",
       "...     ...    ...    ...          ...       ...    ...       ...    ...\n",
       "2195  False  False  False        False     False  False     False  False\n",
       "2196  False  False  False        False     False  False     False  False\n",
       "2197  False  False  False        False     False  False     False  False\n",
       "2198  False  False  False        False     False  False     False  False\n",
       "2199  False  False  False        False     False  False     False  False\n",
       "\n",
       "[2200 rows x 8 columns]"
      ]
     },
     "execution_count": 8,
     "metadata": {},
     "output_type": "execute_result"
    }
   ],
   "source": [
    "crop_dataset.isnull()"
   ]
  },
  {
   "cell_type": "code",
   "execution_count": 9,
   "id": "0b2a0c42",
   "metadata": {
    "scrolled": false
   },
   "outputs": [
    {
     "data": {
      "text/html": [
       "<div>\n",
       "<style scoped>\n",
       "    .dataframe tbody tr th:only-of-type {\n",
       "        vertical-align: middle;\n",
       "    }\n",
       "\n",
       "    .dataframe tbody tr th {\n",
       "        vertical-align: top;\n",
       "    }\n",
       "\n",
       "    .dataframe thead th {\n",
       "        text-align: right;\n",
       "    }\n",
       "</style>\n",
       "<table border=\"1\" class=\"dataframe\">\n",
       "  <thead>\n",
       "    <tr style=\"text-align: right;\">\n",
       "      <th></th>\n",
       "      <th>pH</th>\n",
       "      <th>EC</th>\n",
       "      <th>OC</th>\n",
       "      <th>OM</th>\n",
       "      <th>N</th>\n",
       "      <th>P</th>\n",
       "      <th>K</th>\n",
       "      <th>Zn</th>\n",
       "      <th>Fe</th>\n",
       "      <th>Cu</th>\n",
       "      <th>Mn</th>\n",
       "      <th>Sand</th>\n",
       "      <th>Silt</th>\n",
       "      <th>Clay</th>\n",
       "      <th>CaCO3</th>\n",
       "      <th>CEC</th>\n",
       "      <th>Output</th>\n",
       "    </tr>\n",
       "  </thead>\n",
       "  <tbody>\n",
       "    <tr>\n",
       "      <th>0</th>\n",
       "      <td>False</td>\n",
       "      <td>False</td>\n",
       "      <td>False</td>\n",
       "      <td>False</td>\n",
       "      <td>False</td>\n",
       "      <td>False</td>\n",
       "      <td>False</td>\n",
       "      <td>False</td>\n",
       "      <td>False</td>\n",
       "      <td>False</td>\n",
       "      <td>False</td>\n",
       "      <td>False</td>\n",
       "      <td>False</td>\n",
       "      <td>False</td>\n",
       "      <td>False</td>\n",
       "      <td>False</td>\n",
       "      <td>False</td>\n",
       "    </tr>\n",
       "    <tr>\n",
       "      <th>1</th>\n",
       "      <td>False</td>\n",
       "      <td>False</td>\n",
       "      <td>False</td>\n",
       "      <td>False</td>\n",
       "      <td>False</td>\n",
       "      <td>False</td>\n",
       "      <td>False</td>\n",
       "      <td>False</td>\n",
       "      <td>False</td>\n",
       "      <td>False</td>\n",
       "      <td>False</td>\n",
       "      <td>False</td>\n",
       "      <td>False</td>\n",
       "      <td>False</td>\n",
       "      <td>False</td>\n",
       "      <td>False</td>\n",
       "      <td>False</td>\n",
       "    </tr>\n",
       "    <tr>\n",
       "      <th>2</th>\n",
       "      <td>False</td>\n",
       "      <td>False</td>\n",
       "      <td>False</td>\n",
       "      <td>False</td>\n",
       "      <td>False</td>\n",
       "      <td>False</td>\n",
       "      <td>False</td>\n",
       "      <td>False</td>\n",
       "      <td>False</td>\n",
       "      <td>False</td>\n",
       "      <td>False</td>\n",
       "      <td>False</td>\n",
       "      <td>False</td>\n",
       "      <td>False</td>\n",
       "      <td>False</td>\n",
       "      <td>False</td>\n",
       "      <td>False</td>\n",
       "    </tr>\n",
       "    <tr>\n",
       "      <th>3</th>\n",
       "      <td>False</td>\n",
       "      <td>False</td>\n",
       "      <td>False</td>\n",
       "      <td>False</td>\n",
       "      <td>False</td>\n",
       "      <td>False</td>\n",
       "      <td>False</td>\n",
       "      <td>False</td>\n",
       "      <td>False</td>\n",
       "      <td>False</td>\n",
       "      <td>False</td>\n",
       "      <td>False</td>\n",
       "      <td>False</td>\n",
       "      <td>False</td>\n",
       "      <td>False</td>\n",
       "      <td>False</td>\n",
       "      <td>False</td>\n",
       "    </tr>\n",
       "    <tr>\n",
       "      <th>4</th>\n",
       "      <td>False</td>\n",
       "      <td>False</td>\n",
       "      <td>False</td>\n",
       "      <td>False</td>\n",
       "      <td>False</td>\n",
       "      <td>False</td>\n",
       "      <td>False</td>\n",
       "      <td>False</td>\n",
       "      <td>False</td>\n",
       "      <td>False</td>\n",
       "      <td>False</td>\n",
       "      <td>False</td>\n",
       "      <td>False</td>\n",
       "      <td>False</td>\n",
       "      <td>False</td>\n",
       "      <td>False</td>\n",
       "      <td>False</td>\n",
       "    </tr>\n",
       "    <tr>\n",
       "      <th>...</th>\n",
       "      <td>...</td>\n",
       "      <td>...</td>\n",
       "      <td>...</td>\n",
       "      <td>...</td>\n",
       "      <td>...</td>\n",
       "      <td>...</td>\n",
       "      <td>...</td>\n",
       "      <td>...</td>\n",
       "      <td>...</td>\n",
       "      <td>...</td>\n",
       "      <td>...</td>\n",
       "      <td>...</td>\n",
       "      <td>...</td>\n",
       "      <td>...</td>\n",
       "      <td>...</td>\n",
       "      <td>...</td>\n",
       "      <td>...</td>\n",
       "    </tr>\n",
       "    <tr>\n",
       "      <th>95</th>\n",
       "      <td>False</td>\n",
       "      <td>False</td>\n",
       "      <td>False</td>\n",
       "      <td>False</td>\n",
       "      <td>False</td>\n",
       "      <td>False</td>\n",
       "      <td>False</td>\n",
       "      <td>False</td>\n",
       "      <td>False</td>\n",
       "      <td>False</td>\n",
       "      <td>False</td>\n",
       "      <td>False</td>\n",
       "      <td>False</td>\n",
       "      <td>False</td>\n",
       "      <td>False</td>\n",
       "      <td>False</td>\n",
       "      <td>False</td>\n",
       "    </tr>\n",
       "    <tr>\n",
       "      <th>96</th>\n",
       "      <td>False</td>\n",
       "      <td>False</td>\n",
       "      <td>False</td>\n",
       "      <td>False</td>\n",
       "      <td>False</td>\n",
       "      <td>False</td>\n",
       "      <td>False</td>\n",
       "      <td>False</td>\n",
       "      <td>False</td>\n",
       "      <td>False</td>\n",
       "      <td>False</td>\n",
       "      <td>False</td>\n",
       "      <td>False</td>\n",
       "      <td>False</td>\n",
       "      <td>False</td>\n",
       "      <td>False</td>\n",
       "      <td>False</td>\n",
       "    </tr>\n",
       "    <tr>\n",
       "      <th>97</th>\n",
       "      <td>False</td>\n",
       "      <td>False</td>\n",
       "      <td>False</td>\n",
       "      <td>False</td>\n",
       "      <td>False</td>\n",
       "      <td>False</td>\n",
       "      <td>False</td>\n",
       "      <td>False</td>\n",
       "      <td>False</td>\n",
       "      <td>False</td>\n",
       "      <td>False</td>\n",
       "      <td>False</td>\n",
       "      <td>False</td>\n",
       "      <td>False</td>\n",
       "      <td>False</td>\n",
       "      <td>False</td>\n",
       "      <td>False</td>\n",
       "    </tr>\n",
       "    <tr>\n",
       "      <th>98</th>\n",
       "      <td>False</td>\n",
       "      <td>False</td>\n",
       "      <td>False</td>\n",
       "      <td>False</td>\n",
       "      <td>False</td>\n",
       "      <td>False</td>\n",
       "      <td>False</td>\n",
       "      <td>False</td>\n",
       "      <td>False</td>\n",
       "      <td>False</td>\n",
       "      <td>False</td>\n",
       "      <td>False</td>\n",
       "      <td>False</td>\n",
       "      <td>False</td>\n",
       "      <td>False</td>\n",
       "      <td>False</td>\n",
       "      <td>False</td>\n",
       "    </tr>\n",
       "    <tr>\n",
       "      <th>99</th>\n",
       "      <td>False</td>\n",
       "      <td>False</td>\n",
       "      <td>False</td>\n",
       "      <td>False</td>\n",
       "      <td>False</td>\n",
       "      <td>False</td>\n",
       "      <td>False</td>\n",
       "      <td>False</td>\n",
       "      <td>False</td>\n",
       "      <td>False</td>\n",
       "      <td>False</td>\n",
       "      <td>False</td>\n",
       "      <td>False</td>\n",
       "      <td>False</td>\n",
       "      <td>False</td>\n",
       "      <td>False</td>\n",
       "      <td>False</td>\n",
       "    </tr>\n",
       "  </tbody>\n",
       "</table>\n",
       "<p>100 rows × 17 columns</p>\n",
       "</div>"
      ],
      "text/plain": [
       "       pH     EC     OC     OM      N      P      K     Zn     Fe     Cu  \\\n",
       "0   False  False  False  False  False  False  False  False  False  False   \n",
       "1   False  False  False  False  False  False  False  False  False  False   \n",
       "2   False  False  False  False  False  False  False  False  False  False   \n",
       "3   False  False  False  False  False  False  False  False  False  False   \n",
       "4   False  False  False  False  False  False  False  False  False  False   \n",
       "..    ...    ...    ...    ...    ...    ...    ...    ...    ...    ...   \n",
       "95  False  False  False  False  False  False  False  False  False  False   \n",
       "96  False  False  False  False  False  False  False  False  False  False   \n",
       "97  False  False  False  False  False  False  False  False  False  False   \n",
       "98  False  False  False  False  False  False  False  False  False  False   \n",
       "99  False  False  False  False  False  False  False  False  False  False   \n",
       "\n",
       "       Mn   Sand   Silt   Clay  CaCO3    CEC  Output  \n",
       "0   False  False  False  False  False  False   False  \n",
       "1   False  False  False  False  False  False   False  \n",
       "2   False  False  False  False  False  False   False  \n",
       "3   False  False  False  False  False  False   False  \n",
       "4   False  False  False  False  False  False   False  \n",
       "..    ...    ...    ...    ...    ...    ...     ...  \n",
       "95  False  False  False  False  False  False   False  \n",
       "96  False  False  False  False  False  False   False  \n",
       "97  False  False  False  False  False  False   False  \n",
       "98  False  False  False  False  False  False   False  \n",
       "99  False  False  False  False  False  False   False  \n",
       "\n",
       "[100 rows x 17 columns]"
      ]
     },
     "execution_count": 9,
     "metadata": {},
     "output_type": "execute_result"
    }
   ],
   "source": [
    "soil_dataset.isnull()"
   ]
  },
  {
   "cell_type": "code",
   "execution_count": 10,
   "id": "34e2d1ad",
   "metadata": {},
   "outputs": [
    {
     "data": {
      "text/plain": [
       "N              0\n",
       "P              0\n",
       "K              0\n",
       "temperature    0\n",
       "humidity       0\n",
       "ph             0\n",
       "rainfall       0\n",
       "label          0\n",
       "dtype: int64"
      ]
     },
     "execution_count": 10,
     "metadata": {},
     "output_type": "execute_result"
    }
   ],
   "source": [
    "crop_dataset.isnull().sum()"
   ]
  },
  {
   "cell_type": "code",
   "execution_count": 11,
   "id": "2c72884d",
   "metadata": {},
   "outputs": [
    {
     "data": {
      "text/plain": [
       "pH        0\n",
       "EC        0\n",
       "OC        0\n",
       "OM        0\n",
       "N         0\n",
       "P         0\n",
       "K         0\n",
       "Zn        0\n",
       "Fe        0\n",
       "Cu        0\n",
       "Mn        0\n",
       "Sand      0\n",
       "Silt      0\n",
       "Clay      0\n",
       "CaCO3     0\n",
       "CEC       0\n",
       "Output    0\n",
       "dtype: int64"
      ]
     },
     "execution_count": 11,
     "metadata": {},
     "output_type": "execute_result"
    }
   ],
   "source": [
    "soil_dataset.isnull().sum()"
   ]
  },
  {
   "cell_type": "code",
   "execution_count": 12,
   "id": "46b69879",
   "metadata": {},
   "outputs": [],
   "source": [
    "x1 = crop_dataset[['N','P','K','temperature','humidity','ph','rainfall']].values"
   ]
  },
  {
   "cell_type": "code",
   "execution_count": 13,
   "id": "79109876",
   "metadata": {
    "scrolled": false
   },
   "outputs": [
    {
     "data": {
      "text/plain": [
       "array([[ 90.        ,  42.        ,  43.        , ...,  82.00274423,\n",
       "          6.50298529, 202.9355362 ],\n",
       "       [ 85.        ,  58.        ,  41.        , ...,  80.31964408,\n",
       "          7.03809636, 226.6555374 ],\n",
       "       [ 60.        ,  55.        ,  44.        , ...,  82.3207629 ,\n",
       "          7.84020714, 263.9642476 ],\n",
       "       ...,\n",
       "       [118.        ,  33.        ,  30.        , ...,  67.22512329,\n",
       "          6.36260785, 173.3228386 ],\n",
       "       [117.        ,  32.        ,  34.        , ...,  52.12739421,\n",
       "          6.75879255, 127.1752928 ],\n",
       "       [104.        ,  18.        ,  30.        , ...,  60.39647474,\n",
       "          6.77983261, 140.9370415 ]])"
      ]
     },
     "execution_count": 13,
     "metadata": {},
     "output_type": "execute_result"
    }
   ],
   "source": [
    "x1"
   ]
  },
  {
   "cell_type": "code",
   "execution_count": 14,
   "id": "659251d5",
   "metadata": {},
   "outputs": [],
   "source": [
    "y1 = crop_dataset[['label']].values"
   ]
  },
  {
   "cell_type": "code",
   "execution_count": 15,
   "id": "bd3dd384",
   "metadata": {},
   "outputs": [
    {
     "data": {
      "text/plain": [
       "array([['rice'],\n",
       "       ['rice'],\n",
       "       ['rice'],\n",
       "       ...,\n",
       "       ['coffee'],\n",
       "       ['coffee'],\n",
       "       ['coffee']], dtype=object)"
      ]
     },
     "execution_count": 15,
     "metadata": {},
     "output_type": "execute_result"
    }
   ],
   "source": [
    "y1"
   ]
  },
  {
   "cell_type": "code",
   "execution_count": 16,
   "id": "601dd2a5",
   "metadata": {},
   "outputs": [],
   "source": [
    "x2 = soil_dataset[['pH','EC','OC','OM','N','P','K','Zn','Fe','Cu','Mn','Sand','Silt','Clay','CaCO3','CEC']].values"
   ]
  },
  {
   "cell_type": "code",
   "execution_count": 17,
   "id": "a509c6f1",
   "metadata": {},
   "outputs": [
    {
     "data": {
      "text/plain": [
       "array([[7.740e+00, 4.000e-01, 1.000e-02, ..., 8.900e+00, 6.720e+00,\n",
       "        7.810e+00],\n",
       "       [9.020e+00, 3.100e-01, 2.000e-02, ..., 5.700e+00, 4.610e+00,\n",
       "        7.190e+00],\n",
       "       [7.800e+00, 1.700e-01, 2.000e-02, ..., 8.600e+00, 1.530e+00,\n",
       "        1.232e+01],\n",
       "       ...,\n",
       "       [8.260e+00, 2.500e-01, 7.100e-01, ..., 6.800e+00, 3.850e+00,\n",
       "        7.260e+00],\n",
       "       [8.120e+00, 1.400e-01, 7.300e-01, ..., 7.300e+00, 0.000e+00,\n",
       "        3.100e+00],\n",
       "       [7.310e+00, 4.600e-01, 7.400e-01, ..., 1.270e+01, 4.860e+00,\n",
       "        6.510e+00]])"
      ]
     },
     "execution_count": 17,
     "metadata": {},
     "output_type": "execute_result"
    }
   ],
   "source": [
    "x2"
   ]
  },
  {
   "cell_type": "code",
   "execution_count": 18,
   "id": "446bd7a5",
   "metadata": {},
   "outputs": [],
   "source": [
    "y2 = soil_dataset[['Output']].values"
   ]
  },
  {
   "cell_type": "code",
   "execution_count": 19,
   "id": "ab7e2431",
   "metadata": {
    "scrolled": true
   },
   "outputs": [
    {
     "data": {
      "text/plain": [
       "array([['Fertile'],\n",
       "       ['Fertile'],\n",
       "       ['Fertile'],\n",
       "       ['Non Fertile'],\n",
       "       ['Non Fertile'],\n",
       "       ['Non Fertile'],\n",
       "       ['Non Fertile'],\n",
       "       ['Non Fertile'],\n",
       "       ['Fertile'],\n",
       "       ['Fertile'],\n",
       "       ['Non Fertile'],\n",
       "       ['Fertile'],\n",
       "       ['Fertile'],\n",
       "       ['Fertile'],\n",
       "       ['Non Fertile'],\n",
       "       ['Non Fertile'],\n",
       "       ['Non Fertile'],\n",
       "       ['Non Fertile'],\n",
       "       ['Non Fertile'],\n",
       "       ['Non Fertile'],\n",
       "       ['Non Fertile'],\n",
       "       ['Fertile'],\n",
       "       ['Fertile'],\n",
       "       ['Fertile'],\n",
       "       ['Non Fertile'],\n",
       "       ['Non Fertile'],\n",
       "       ['Non Fertile'],\n",
       "       ['Non Fertile'],\n",
       "       ['Non Fertile'],\n",
       "       ['Non Fertile'],\n",
       "       ['Fertile'],\n",
       "       ['Fertile'],\n",
       "       ['Fertile'],\n",
       "       ['Fertile'],\n",
       "       ['Non Fertile'],\n",
       "       ['Fertile'],\n",
       "       ['Non Fertile'],\n",
       "       ['Fertile'],\n",
       "       ['Non Fertile'],\n",
       "       ['Non Fertile'],\n",
       "       ['Non Fertile'],\n",
       "       ['Non Fertile'],\n",
       "       ['Fertile'],\n",
       "       ['Non Fertile'],\n",
       "       ['Non Fertile'],\n",
       "       ['Non Fertile'],\n",
       "       ['Fertile'],\n",
       "       ['Fertile'],\n",
       "       ['Fertile'],\n",
       "       ['Non Fertile'],\n",
       "       ['Non Fertile'],\n",
       "       ['Fertile'],\n",
       "       ['Fertile'],\n",
       "       ['Non Fertile'],\n",
       "       ['Fertile'],\n",
       "       ['Non Fertile'],\n",
       "       ['Non Fertile'],\n",
       "       ['Non Fertile'],\n",
       "       ['Non Fertile'],\n",
       "       ['Fertile'],\n",
       "       ['Non Fertile'],\n",
       "       ['Fertile'],\n",
       "       ['Fertile'],\n",
       "       ['Fertile'],\n",
       "       ['Non Fertile'],\n",
       "       ['Non Fertile'],\n",
       "       ['Fertile'],\n",
       "       ['Non Fertile'],\n",
       "       ['Non Fertile'],\n",
       "       ['Non Fertile'],\n",
       "       ['Fertile'],\n",
       "       ['Fertile'],\n",
       "       ['Non Fertile'],\n",
       "       ['Non Fertile'],\n",
       "       ['Non Fertile'],\n",
       "       ['Fertile'],\n",
       "       ['Fertile'],\n",
       "       ['Fertile'],\n",
       "       ['Non Fertile'],\n",
       "       ['Non Fertile'],\n",
       "       ['Non Fertile'],\n",
       "       ['Fertile'],\n",
       "       ['Fertile'],\n",
       "       ['Non Fertile'],\n",
       "       ['Fertile'],\n",
       "       ['Fertile'],\n",
       "       ['Fertile'],\n",
       "       ['Fertile'],\n",
       "       ['Fertile'],\n",
       "       ['Fertile'],\n",
       "       ['Fertile'],\n",
       "       ['Fertile'],\n",
       "       ['Fertile'],\n",
       "       ['Fertile'],\n",
       "       ['Fertile'],\n",
       "       ['Fertile'],\n",
       "       ['Non Fertile'],\n",
       "       ['Fertile'],\n",
       "       ['Non Fertile'],\n",
       "       ['Fertile']], dtype=object)"
      ]
     },
     "execution_count": 19,
     "metadata": {},
     "output_type": "execute_result"
    }
   ],
   "source": [
    "y2"
   ]
  },
  {
   "cell_type": "markdown",
   "id": "e8d87fc2",
   "metadata": {},
   "source": [
    "## Decision Tree"
   ]
  },
  {
   "cell_type": "code",
   "execution_count": 20,
   "id": "4d787138",
   "metadata": {},
   "outputs": [],
   "source": [
    "from sklearn.model_selection import train_test_split\n",
    "from sklearn.tree import DecisionTreeClassifier\n",
    "from sklearn.metrics import accuracy_score"
   ]
  },
  {
   "cell_type": "code",
   "execution_count": 21,
   "id": "943f3998",
   "metadata": {},
   "outputs": [],
   "source": [
    "x1 = crop_dataset.drop('label',axis=1)\n",
    "y1 = crop_dataset['label']"
   ]
  },
  {
   "cell_type": "code",
   "execution_count": 22,
   "id": "1116c327",
   "metadata": {},
   "outputs": [],
   "source": [
    "x1_train, x1_test,y1_train, y1_test = train_test_split(x1, y1, test_size=0.3, random_state=42)"
   ]
  },
  {
   "cell_type": "code",
   "execution_count": 23,
   "id": "82ef652c",
   "metadata": {},
   "outputs": [
    {
     "data": {
      "text/html": [
       "<style>#sk-container-id-1 {color: black;}#sk-container-id-1 pre{padding: 0;}#sk-container-id-1 div.sk-toggleable {background-color: white;}#sk-container-id-1 label.sk-toggleable__label {cursor: pointer;display: block;width: 100%;margin-bottom: 0;padding: 0.3em;box-sizing: border-box;text-align: center;}#sk-container-id-1 label.sk-toggleable__label-arrow:before {content: \"▸\";float: left;margin-right: 0.25em;color: #696969;}#sk-container-id-1 label.sk-toggleable__label-arrow:hover:before {color: black;}#sk-container-id-1 div.sk-estimator:hover label.sk-toggleable__label-arrow:before {color: black;}#sk-container-id-1 div.sk-toggleable__content {max-height: 0;max-width: 0;overflow: hidden;text-align: left;background-color: #f0f8ff;}#sk-container-id-1 div.sk-toggleable__content pre {margin: 0.2em;color: black;border-radius: 0.25em;background-color: #f0f8ff;}#sk-container-id-1 input.sk-toggleable__control:checked~div.sk-toggleable__content {max-height: 200px;max-width: 100%;overflow: auto;}#sk-container-id-1 input.sk-toggleable__control:checked~label.sk-toggleable__label-arrow:before {content: \"▾\";}#sk-container-id-1 div.sk-estimator input.sk-toggleable__control:checked~label.sk-toggleable__label {background-color: #d4ebff;}#sk-container-id-1 div.sk-label input.sk-toggleable__control:checked~label.sk-toggleable__label {background-color: #d4ebff;}#sk-container-id-1 input.sk-hidden--visually {border: 0;clip: rect(1px 1px 1px 1px);clip: rect(1px, 1px, 1px, 1px);height: 1px;margin: -1px;overflow: hidden;padding: 0;position: absolute;width: 1px;}#sk-container-id-1 div.sk-estimator {font-family: monospace;background-color: #f0f8ff;border: 1px dotted black;border-radius: 0.25em;box-sizing: border-box;margin-bottom: 0.5em;}#sk-container-id-1 div.sk-estimator:hover {background-color: #d4ebff;}#sk-container-id-1 div.sk-parallel-item::after {content: \"\";width: 100%;border-bottom: 1px solid gray;flex-grow: 1;}#sk-container-id-1 div.sk-label:hover label.sk-toggleable__label {background-color: #d4ebff;}#sk-container-id-1 div.sk-serial::before {content: \"\";position: absolute;border-left: 1px solid gray;box-sizing: border-box;top: 0;bottom: 0;left: 50%;z-index: 0;}#sk-container-id-1 div.sk-serial {display: flex;flex-direction: column;align-items: center;background-color: white;padding-right: 0.2em;padding-left: 0.2em;position: relative;}#sk-container-id-1 div.sk-item {position: relative;z-index: 1;}#sk-container-id-1 div.sk-parallel {display: flex;align-items: stretch;justify-content: center;background-color: white;position: relative;}#sk-container-id-1 div.sk-item::before, #sk-container-id-1 div.sk-parallel-item::before {content: \"\";position: absolute;border-left: 1px solid gray;box-sizing: border-box;top: 0;bottom: 0;left: 50%;z-index: -1;}#sk-container-id-1 div.sk-parallel-item {display: flex;flex-direction: column;z-index: 1;position: relative;background-color: white;}#sk-container-id-1 div.sk-parallel-item:first-child::after {align-self: flex-end;width: 50%;}#sk-container-id-1 div.sk-parallel-item:last-child::after {align-self: flex-start;width: 50%;}#sk-container-id-1 div.sk-parallel-item:only-child::after {width: 0;}#sk-container-id-1 div.sk-dashed-wrapped {border: 1px dashed gray;margin: 0 0.4em 0.5em 0.4em;box-sizing: border-box;padding-bottom: 0.4em;background-color: white;}#sk-container-id-1 div.sk-label label {font-family: monospace;font-weight: bold;display: inline-block;line-height: 1.2em;}#sk-container-id-1 div.sk-label-container {text-align: center;}#sk-container-id-1 div.sk-container {/* jupyter's `normalize.less` sets `[hidden] { display: none; }` but bootstrap.min.css set `[hidden] { display: none !important; }` so we also need the `!important` here to be able to override the default hidden behavior on the sphinx rendered scikit-learn.org. See: https://github.com/scikit-learn/scikit-learn/issues/21755 */display: inline-block !important;position: relative;}#sk-container-id-1 div.sk-text-repr-fallback {display: none;}</style><div id=\"sk-container-id-1\" class=\"sk-top-container\"><div class=\"sk-text-repr-fallback\"><pre>DecisionTreeClassifier()</pre><b>In a Jupyter environment, please rerun this cell to show the HTML representation or trust the notebook. <br />On GitHub, the HTML representation is unable to render, please try loading this page with nbviewer.org.</b></div><div class=\"sk-container\" hidden><div class=\"sk-item\"><div class=\"sk-estimator sk-toggleable\"><input class=\"sk-toggleable__control sk-hidden--visually\" id=\"sk-estimator-id-1\" type=\"checkbox\" checked><label for=\"sk-estimator-id-1\" class=\"sk-toggleable__label sk-toggleable__label-arrow\">DecisionTreeClassifier</label><div class=\"sk-toggleable__content\"><pre>DecisionTreeClassifier()</pre></div></div></div></div></div>"
      ],
      "text/plain": [
       "DecisionTreeClassifier()"
      ]
     },
     "execution_count": 23,
     "metadata": {},
     "output_type": "execute_result"
    }
   ],
   "source": [
    "classifier = DecisionTreeClassifier()\n",
    "classifier.fit(x1_train,y1_train)"
   ]
  },
  {
   "cell_type": "code",
   "execution_count": 24,
   "id": "0217d9a8",
   "metadata": {},
   "outputs": [
    {
     "name": "stdout",
     "output_type": "stream",
     "text": [
      "Predicted Crop: muskmelon\n"
     ]
    },
    {
     "name": "stderr",
     "output_type": "stream",
     "text": [
      "C:\\Users\\KRISHNA MOHAN\\AppData\\Roaming\\Python\\Python311\\site-packages\\sklearn\\base.py:465: UserWarning: X does not have valid feature names, but DecisionTreeClassifier was fitted with feature names\n",
      "  warnings.warn(\n"
     ]
    }
   ],
   "source": [
    "example_crop_features = x1_test.iloc[0].values.reshape(1, -1)\n",
    "predicted_crop = classifier.predict(example_crop_features)\n",
    "print(\"Predicted Crop:\", predicted_crop[0])"
   ]
  },
  {
   "cell_type": "code",
   "execution_count": 25,
   "id": "8d4afdd8",
   "metadata": {},
   "outputs": [
    {
     "data": {
      "text/plain": [
       "0.9848484848484849"
      ]
     },
     "execution_count": 25,
     "metadata": {},
     "output_type": "execute_result"
    }
   ],
   "source": [
    "classifier.score(x1_test,y1_test)"
   ]
  },
  {
   "cell_type": "code",
   "execution_count": 26,
   "id": "2abd34a6",
   "metadata": {},
   "outputs": [
    {
     "name": "stderr",
     "output_type": "stream",
     "text": [
      "C:\\Users\\KRISHNA MOHAN\\AppData\\Roaming\\Python\\Python311\\site-packages\\sklearn\\base.py:465: UserWarning: X does not have valid feature names, but DecisionTreeClassifier was fitted with feature names\n",
      "  warnings.warn(\n"
     ]
    },
    {
     "data": {
      "text/plain": [
       "array(['rice'], dtype=object)"
      ]
     },
     "execution_count": 26,
     "metadata": {},
     "output_type": "execute_result"
    }
   ],
   "source": [
    "classifier.predict([[60,55,44,23.004459,82.320763,7.840207,263.964248]])"
   ]
  },
  {
   "cell_type": "code",
   "execution_count": 27,
   "id": "cf3785a6",
   "metadata": {},
   "outputs": [
    {
     "name": "stdout",
     "output_type": "stream",
     "text": [
      "Predicted Soil Fertility: Non Fertile\n"
     ]
    },
    {
     "name": "stderr",
     "output_type": "stream",
     "text": [
      "C:\\Users\\KRISHNA MOHAN\\AppData\\Roaming\\Python\\Python311\\site-packages\\sklearn\\base.py:465: UserWarning: X does not have valid feature names, but DecisionTreeClassifier was fitted with feature names\n",
      "  warnings.warn(\n"
     ]
    }
   ],
   "source": [
    "# Preparing the soil data\n",
    "x2 = soil_dataset.drop('Output', axis=1)\n",
    "y2 = soil_dataset['Output']\n",
    "x2_train, x2_test, y2_train, y2_test = train_test_split(x2, y2, test_size=0.3, random_state=42)\n",
    "\n",
    "# Training the classifier for soil fertility prediction\n",
    "cls = DecisionTreeClassifier()\n",
    "cls.fit(x2_train,y2_train)\n",
    "\n",
    "# Soil Fertility Prediction Example\n",
    "example_soil_features = x2_test.iloc[0].values.reshape(1, -1)\n",
    "predicted_soil_fertility = cls.predict(example_soil_features)\n",
    "print(\"Predicted Soil Fertility:\", predicted_soil_fertility[0])"
   ]
  },
  {
   "cell_type": "code",
   "execution_count": 28,
   "id": "b5e8894a",
   "metadata": {},
   "outputs": [
    {
     "data": {
      "text/plain": [
       "0.8666666666666667"
      ]
     },
     "execution_count": 28,
     "metadata": {},
     "output_type": "execute_result"
    }
   ],
   "source": [
    "cls.score(x2_test,y2_test)"
   ]
  },
  {
   "cell_type": "code",
   "execution_count": 29,
   "id": "f6ecc056",
   "metadata": {},
   "outputs": [
    {
     "name": "stderr",
     "output_type": "stream",
     "text": [
      "C:\\Users\\KRISHNA MOHAN\\AppData\\Roaming\\Python\\Python311\\site-packages\\sklearn\\base.py:465: UserWarning: X does not have valid feature names, but DecisionTreeClassifier was fitted with feature names\n",
      "  warnings.warn(\n"
     ]
    },
    {
     "data": {
      "text/plain": [
       "array(['Non Fertile'], dtype=object)"
      ]
     },
     "execution_count": 29,
     "metadata": {},
     "output_type": "execute_result"
    }
   ],
   "source": [
    "cls.predict([[8.36,0.02,0.03,0.05,106,6.4,127,0.5,3.1,0.28,2.3,93.9,1.7,4.4,0,1.6]])"
   ]
  },
  {
   "cell_type": "code",
   "execution_count": 30,
   "id": "77ec7860",
   "metadata": {},
   "outputs": [
    {
     "data": {
      "text/plain": [
       "[Text(0.6747532894736842, 0.9705882352941176, 'x[6] <= 30.393\\ngini = 0.954\\nsamples = 1540\\nvalue = [66, 74, 74, 66, 67, 70, 72, 77, 66, 64, 78, 74\\n68, 66, 70, 76, 75, 63, 63, 62, 72, 77]'),\n",
       " Text(0.6484375, 0.9117647058823529, 'gini = 0.0\\nsamples = 76\\nvalue = [0, 0, 0, 0, 0, 0, 0, 0, 0, 0, 0, 0, 0, 0\\n0, 76, 0, 0, 0, 0, 0, 0]'),\n",
       " Text(0.7010690789473685, 0.9117647058823529, 'x[2] <= 140.0\\ngini = 0.952\\nsamples = 1464\\nvalue = [66, 74, 74, 66, 67, 70, 72, 77, 66, 64, 78, 74\\n68, 66, 70, 0, 75, 63, 63, 62, 72, 77]'),\n",
       " Text(0.540296052631579, 0.8529411764705882, 'x[4] <= 73.667\\ngini = 0.947\\nsamples = 1321\\nvalue = [0, 74, 74, 66, 67, 70, 72, 0, 66, 64, 78, 74\\n68, 66, 70, 0, 75, 63, 63, 62, 72, 77]'),\n",
       " Text(0.29769736842105265, 0.7941176470588235, 'x[0] <= 59.5\\ngini = 0.892\\nsamples = 631\\nvalue = [0, 0, 74, 66, 0, 70, 0, 0, 10, 64, 78, 72, 68\\n66, 0, 0, 0, 0, 63, 0, 0, 0]'),\n",
       " Text(0.14802631578947367, 0.7352941176470589, 'x[4] <= 27.978\\ngini = 0.856\\nsamples = 477\\nvalue = [0, 0, 73, 65, 0, 0, 0, 0, 0, 64, 78, 0, 68\\n66, 0, 0, 0, 0, 63, 0, 0, 0]'),\n",
       " Text(0.06578947368421052, 0.6764705882352942, 'x[2] <= 50.0\\ngini = 0.5\\nsamples = 129\\nvalue = [0, 0, 0, 65, 0, 0, 0, 0, 0, 64, 0, 0, 0, 0\\n0, 0, 0, 0, 0, 0, 0, 0]'),\n",
       " Text(0.039473684210526314, 0.6176470588235294, 'gini = 0.0\\nsamples = 64\\nvalue = [0, 0, 0, 0, 0, 0, 0, 0, 0, 64, 0, 0, 0, 0\\n0, 0, 0, 0, 0, 0, 0, 0]'),\n",
       " Text(0.09210526315789473, 0.6176470588235294, 'gini = 0.0\\nsamples = 65\\nvalue = [0, 0, 0, 65, 0, 0, 0, 0, 0, 0, 0, 0, 0, 0\\n0, 0, 0, 0, 0, 0, 0, 0]'),\n",
       " Text(0.23026315789473684, 0.6764705882352942, 'x[6] <= 82.081\\ngini = 0.799\\nsamples = 348\\nvalue = [0, 0, 73, 0, 0, 0, 0, 0, 0, 0, 78, 0, 68, 66\\n0, 0, 0, 0, 63, 0, 0, 0]'),\n",
       " Text(0.14473684210526316, 0.6176470588235294, 'x[6] <= 59.804\\ngini = 0.665\\nsamples = 217\\nvalue = [0, 0, 73, 0, 0, 0, 0, 0, 0, 0, 78, 0, 0, 66\\n0, 0, 0, 0, 0, 0, 0, 0]'),\n",
       " Text(0.05263157894736842, 0.5588235294117647, 'x[4] <= 60.029\\ngini = 0.464\\nsamples = 123\\nvalue = [0, 0, 0, 0, 0, 0, 0, 0, 0, 0, 78, 0, 0, 45\\n0, 0, 0, 0, 0, 0, 0, 0]'),\n",
       " Text(0.02631578947368421, 0.5, 'gini = 0.0\\nsamples = 39\\nvalue = [0, 0, 0, 0, 0, 0, 0, 0, 0, 0, 0, 0, 0, 39\\n0, 0, 0, 0, 0, 0, 0, 0]'),\n",
       " Text(0.07894736842105263, 0.5, 'x[1] <= 52.0\\ngini = 0.133\\nsamples = 84\\nvalue = [0, 0, 0, 0, 0, 0, 0, 0, 0, 0, 78, 0, 0, 6\\n0, 0, 0, 0, 0, 0, 0, 0]'),\n",
       " Text(0.05263157894736842, 0.4411764705882353, 'gini = 0.0\\nsamples = 6\\nvalue = [0, 0, 0, 0, 0, 0, 0, 0, 0, 0, 0, 0, 0, 6\\n0, 0, 0, 0, 0, 0, 0, 0]'),\n",
       " Text(0.10526315789473684, 0.4411764705882353, 'gini = 0.0\\nsamples = 78\\nvalue = [0, 0, 0, 0, 0, 0, 0, 0, 0, 0, 78, 0, 0, 0\\n0, 0, 0, 0, 0, 0, 0, 0]'),\n",
       " Text(0.23684210526315788, 0.5588235294117647, 'x[1] <= 57.5\\ngini = 0.347\\nsamples = 94\\nvalue = [0, 0, 73, 0, 0, 0, 0, 0, 0, 0, 0, 0, 0, 21\\n0, 0, 0, 0, 0, 0, 0, 0]'),\n",
       " Text(0.18421052631578946, 0.5, 'x[4] <= 62.457\\ngini = 0.278\\nsamples = 24\\nvalue = [0, 0, 4, 0, 0, 0, 0, 0, 0, 0, 0, 0, 0, 20\\n0, 0, 0, 0, 0, 0, 0, 0]'),\n",
       " Text(0.15789473684210525, 0.4411764705882353, 'gini = 0.0\\nsamples = 19\\nvalue = [0, 0, 0, 0, 0, 0, 0, 0, 0, 0, 0, 0, 0, 19\\n0, 0, 0, 0, 0, 0, 0, 0]'),\n",
       " Text(0.21052631578947367, 0.4411764705882353, 'x[5] <= 6.25\\ngini = 0.32\\nsamples = 5\\nvalue = [0, 0, 4, 0, 0, 0, 0, 0, 0, 0, 0, 0, 0, 1\\n0, 0, 0, 0, 0, 0, 0, 0]'),\n",
       " Text(0.18421052631578946, 0.38235294117647056, 'gini = 0.0\\nsamples = 1\\nvalue = [0, 0, 0, 0, 0, 0, 0, 0, 0, 0, 0, 0, 0, 1\\n0, 0, 0, 0, 0, 0, 0, 0]'),\n",
       " Text(0.23684210526315788, 0.38235294117647056, 'gini = 0.0\\nsamples = 4\\nvalue = [0, 0, 4, 0, 0, 0, 0, 0, 0, 0, 0, 0, 0, 0\\n0, 0, 0, 0, 0, 0, 0, 0]'),\n",
       " Text(0.2894736842105263, 0.5, 'x[0] <= 14.5\\ngini = 0.028\\nsamples = 70\\nvalue = [0, 0, 69, 0, 0, 0, 0, 0, 0, 0, 0, 0, 0, 1\\n0, 0, 0, 0, 0, 0, 0, 0]'),\n",
       " Text(0.2631578947368421, 0.4411764705882353, 'gini = 0.0\\nsamples = 1\\nvalue = [0, 0, 0, 0, 0, 0, 0, 0, 0, 0, 0, 0, 0, 1\\n0, 0, 0, 0, 0, 0, 0, 0]'),\n",
       " Text(0.3157894736842105, 0.4411764705882353, 'gini = 0.0\\nsamples = 69\\nvalue = [0, 0, 69, 0, 0, 0, 0, 0, 0, 0, 0, 0, 0, 0\\n0, 0, 0, 0, 0, 0, 0, 0]'),\n",
       " Text(0.3157894736842105, 0.6176470588235294, 'x[1] <= 47.5\\ngini = 0.499\\nsamples = 131\\nvalue = [0, 0, 0, 0, 0, 0, 0, 0, 0, 0, 0, 0, 68, 0\\n0, 0, 0, 0, 63, 0, 0, 0]'),\n",
       " Text(0.2894736842105263, 0.5588235294117647, 'gini = 0.0\\nsamples = 68\\nvalue = [0, 0, 0, 0, 0, 0, 0, 0, 0, 0, 0, 0, 68, 0\\n0, 0, 0, 0, 0, 0, 0, 0]'),\n",
       " Text(0.34210526315789475, 0.5588235294117647, 'gini = 0.0\\nsamples = 63\\nvalue = [0, 0, 0, 0, 0, 0, 0, 0, 0, 0, 0, 0, 0, 0\\n0, 0, 0, 0, 63, 0, 0, 0]'),\n",
       " Text(0.4473684210526316, 0.7352941176470589, 'x[6] <= 112.454\\ngini = 0.571\\nsamples = 154\\nvalue = [0, 0, 1, 1, 0, 70, 0, 0, 10, 0, 0, 72, 0, 0\\n0, 0, 0, 0, 0, 0, 0, 0]'),\n",
       " Text(0.39473684210526316, 0.6764705882352942, 'x[4] <= 36.983\\ngini = 0.053\\nsamples = 74\\nvalue = [0, 0, 1, 1, 0, 0, 0, 0, 0, 0, 0, 72, 0, 0\\n0, 0, 0, 0, 0, 0, 0, 0]'),\n",
       " Text(0.3684210526315789, 0.6176470588235294, 'gini = 0.0\\nsamples = 1\\nvalue = [0, 0, 0, 1, 0, 0, 0, 0, 0, 0, 0, 0, 0, 0\\n0, 0, 0, 0, 0, 0, 0, 0]'),\n",
       " Text(0.42105263157894735, 0.6176470588235294, 'x[5] <= 7.094\\ngini = 0.027\\nsamples = 73\\nvalue = [0, 0, 1, 0, 0, 0, 0, 0, 0, 0, 0, 72, 0, 0\\n0, 0, 0, 0, 0, 0, 0, 0]'),\n",
       " Text(0.39473684210526316, 0.5588235294117647, 'gini = 0.0\\nsamples = 72\\nvalue = [0, 0, 0, 0, 0, 0, 0, 0, 0, 0, 0, 72, 0, 0\\n0, 0, 0, 0, 0, 0, 0, 0]'),\n",
       " Text(0.4473684210526316, 0.5588235294117647, 'gini = 0.0\\nsamples = 1\\nvalue = [0, 0, 1, 0, 0, 0, 0, 0, 0, 0, 0, 0, 0, 0\\n0, 0, 0, 0, 0, 0, 0, 0]'),\n",
       " Text(0.5, 0.6764705882352942, 'x[4] <= 70.297\\ngini = 0.219\\nsamples = 80\\nvalue = [0, 0, 0, 0, 0, 70, 0, 0, 10, 0, 0, 0, 0, 0\\n0, 0, 0, 0, 0, 0, 0, 0]'),\n",
       " Text(0.47368421052631576, 0.6176470588235294, 'gini = 0.0\\nsamples = 70\\nvalue = [0, 0, 0, 0, 0, 70, 0, 0, 0, 0, 0, 0, 0, 0\\n0, 0, 0, 0, 0, 0, 0, 0]'),\n",
       " Text(0.5263157894736842, 0.6176470588235294, 'gini = 0.0\\nsamples = 10\\nvalue = [0, 0, 0, 0, 0, 0, 0, 0, 10, 0, 0, 0, 0, 0\\n0, 0, 0, 0, 0, 0, 0, 0]'),\n",
       " Text(0.7828947368421053, 0.7941176470588235, 'x[1] <= 69.5\\ngini = 0.9\\nsamples = 690\\nvalue = [0, 74, 0, 0, 67, 0, 72, 0, 56, 0, 0, 2, 0, 0\\n70, 0, 75, 63, 0, 62, 72, 77]'),\n",
       " Text(0.6973684210526315, 0.7352941176470589, 'x[6] <= 60.321\\ngini = 0.889\\nsamples = 614\\nvalue = [0, 0, 0, 0, 67, 0, 72, 0, 56, 0, 0, 2, 0, 0\\n70, 0, 75, 61, 0, 62, 72, 77]'),\n",
       " Text(0.6052631578947368, 0.6764705882352942, 'x[1] <= 32.5\\ngini = 0.524\\nsamples = 151\\nvalue = [0, 0, 0, 0, 0, 0, 0, 0, 0, 0, 0, 0, 0, 0\\n70, 0, 0, 4, 0, 0, 0, 77]'),\n",
       " Text(0.5789473684210527, 0.6176470588235294, 'gini = 0.0\\nsamples = 77\\nvalue = [0, 0, 0, 0, 0, 0, 0, 0, 0, 0, 0, 0, 0, 0\\n0, 0, 0, 0, 0, 0, 0, 77]'),\n",
       " Text(0.631578947368421, 0.6176470588235294, 'x[2] <= 37.5\\ngini = 0.102\\nsamples = 74\\nvalue = [0, 0, 0, 0, 0, 0, 0, 0, 0, 0, 0, 0, 0, 0\\n70, 0, 0, 4, 0, 0, 0, 0]'),\n",
       " Text(0.6052631578947368, 0.5588235294117647, 'gini = 0.0\\nsamples = 70\\nvalue = [0, 0, 0, 0, 0, 0, 0, 0, 0, 0, 0, 0, 0, 0\\n70, 0, 0, 0, 0, 0, 0, 0]'),\n",
       " Text(0.6578947368421053, 0.5588235294117647, 'gini = 0.0\\nsamples = 4\\nvalue = [0, 0, 0, 0, 0, 0, 0, 0, 0, 0, 0, 0, 0, 0\\n0, 0, 0, 4, 0, 0, 0, 0]'),\n",
       " Text(0.7894736842105263, 0.6764705882352942, 'x[0] <= 99.5\\ngini = 0.857\\nsamples = 463\\nvalue = [0, 0, 0, 0, 67, 0, 72, 0, 56, 0, 0, 2, 0, 0\\n0, 0, 75, 57, 0, 62, 72, 0]'),\n",
       " Text(0.7368421052631579, 0.6176470588235294, 'x[2] <= 16.5\\ngini = 0.833\\nsamples = 390\\nvalue = [0, 0, 0, 0, 67, 0, 0, 0, 55, 0, 0, 2, 0, 0\\n0, 0, 75, 57, 0, 62, 72, 0]'),\n",
       " Text(0.7105263157894737, 0.5588235294117647, 'gini = 0.0\\nsamples = 75\\nvalue = [0, 0, 0, 0, 0, 0, 0, 0, 0, 0, 0, 0, 0, 0\\n0, 0, 75, 0, 0, 0, 0, 0]'),\n",
       " Text(0.7631578947368421, 0.5588235294117647, 'x[1] <= 32.5\\ngini = 0.801\\nsamples = 315\\nvalue = [0, 0, 0, 0, 67, 0, 0, 0, 55, 0, 0, 2, 0, 0\\n0, 0, 0, 57, 0, 62, 72, 0]'),\n",
       " Text(0.7105263157894737, 0.5, 'x[6] <= 121.775\\ngini = 0.499\\nsamples = 129\\nvalue = [0, 0, 0, 0, 67, 0, 0, 0, 0, 0, 0, 0, 0, 0\\n0, 0, 0, 0, 0, 62, 0, 0]'),\n",
       " Text(0.6842105263157895, 0.4411764705882353, 'gini = 0.0\\nsamples = 62\\nvalue = [0, 0, 0, 0, 0, 0, 0, 0, 0, 0, 0, 0, 0, 0\\n0, 0, 0, 0, 0, 62, 0, 0]'),\n",
       " Text(0.7368421052631579, 0.4411764705882353, 'gini = 0.0\\nsamples = 67\\nvalue = [0, 0, 0, 0, 67, 0, 0, 0, 0, 0, 0, 0, 0, 0\\n0, 0, 0, 0, 0, 0, 0, 0]'),\n",
       " Text(0.8157894736842105, 0.5, 'x[4] <= 89.984\\ngini = 0.669\\nsamples = 186\\nvalue = [0, 0, 0, 0, 0, 0, 0, 0, 55, 0, 0, 2, 0, 0\\n0, 0, 0, 57, 0, 0, 72, 0]'),\n",
       " Text(0.7894736842105263, 0.4411764705882353, 'x[6] <= 199.782\\ngini = 0.506\\nsamples = 129\\nvalue = [0, 0, 0, 0, 0, 0, 0, 0, 55, 0, 0, 2, 0, 0\\n0, 0, 0, 0, 0, 0, 72, 0]'),\n",
       " Text(0.7631578947368421, 0.38235294117647056, 'x[5] <= 5.983\\ngini = 0.319\\nsamples = 68\\nvalue = [0, 0, 0, 0, 0, 0, 0, 0, 55, 0, 0, 2, 0, 0\\n0, 0, 0, 0, 0, 0, 11, 0]'),\n",
       " Text(0.7368421052631579, 0.3235294117647059, 'gini = 0.0\\nsamples = 7\\nvalue = [0, 0, 0, 0, 0, 0, 0, 0, 0, 0, 0, 0, 0, 0\\n0, 0, 0, 0, 0, 0, 7, 0]'),\n",
       " Text(0.7894736842105263, 0.3235294117647059, 'x[3] <= 22.889\\ngini = 0.182\\nsamples = 61\\nvalue = [0, 0, 0, 0, 0, 0, 0, 0, 55, 0, 0, 2, 0, 0\\n0, 0, 0, 0, 0, 0, 4, 0]'),\n",
       " Text(0.7368421052631579, 0.2647058823529412, 'x[6] <= 143.108\\ngini = 0.444\\nsamples = 3\\nvalue = [0, 0, 0, 0, 0, 0, 0, 0, 0, 0, 0, 1, 0, 0\\n0, 0, 0, 0, 0, 0, 2, 0]'),\n",
       " Text(0.7105263157894737, 0.20588235294117646, 'gini = 0.0\\nsamples = 1\\nvalue = [0, 0, 0, 0, 0, 0, 0, 0, 0, 0, 0, 1, 0, 0\\n0, 0, 0, 0, 0, 0, 0, 0]'),\n",
       " Text(0.7631578947368421, 0.20588235294117646, 'gini = 0.0\\nsamples = 2\\nvalue = [0, 0, 0, 0, 0, 0, 0, 0, 0, 0, 0, 0, 0, 0\\n0, 0, 0, 0, 0, 0, 2, 0]'),\n",
       " Text(0.8421052631578947, 0.2647058823529412, 'x[2] <= 26.5\\ngini = 0.099\\nsamples = 58\\nvalue = [0, 0, 0, 0, 0, 0, 0, 0, 55, 0, 0, 1, 0, 0\\n0, 0, 0, 0, 0, 0, 2, 0]'),\n",
       " Text(0.8157894736842105, 0.20588235294117646, 'gini = 0.0\\nsamples = 1\\nvalue = [0, 0, 0, 0, 0, 0, 0, 0, 0, 0, 0, 1, 0, 0\\n0, 0, 0, 0, 0, 0, 0, 0]'),\n",
       " Text(0.868421052631579, 0.20588235294117646, 'x[1] <= 35.5\\ngini = 0.068\\nsamples = 57\\nvalue = [0, 0, 0, 0, 0, 0, 0, 0, 55, 0, 0, 0, 0, 0\\n0, 0, 0, 0, 0, 0, 2, 0]'),\n",
       " Text(0.8157894736842105, 0.14705882352941177, 'x[5] <= 6.656\\ngini = 0.5\\nsamples = 2\\nvalue = [0, 0, 0, 0, 0, 0, 0, 0, 1, 0, 0, 0, 0, 0\\n0, 0, 0, 0, 0, 0, 1, 0]'),\n",
       " Text(0.7894736842105263, 0.08823529411764706, 'gini = 0.0\\nsamples = 1\\nvalue = [0, 0, 0, 0, 0, 0, 0, 0, 1, 0, 0, 0, 0, 0\\n0, 0, 0, 0, 0, 0, 0, 0]'),\n",
       " Text(0.8421052631578947, 0.08823529411764706, 'gini = 0.0\\nsamples = 1\\nvalue = [0, 0, 0, 0, 0, 0, 0, 0, 0, 0, 0, 0, 0, 0\\n0, 0, 0, 0, 0, 0, 1, 0]'),\n",
       " Text(0.9210526315789473, 0.14705882352941177, 'x[5] <= 7.382\\ngini = 0.036\\nsamples = 55\\nvalue = [0, 0, 0, 0, 0, 0, 0, 0, 54, 0, 0, 0, 0, 0\\n0, 0, 0, 0, 0, 0, 1, 0]'),\n",
       " Text(0.8947368421052632, 0.08823529411764706, 'gini = 0.0\\nsamples = 52\\nvalue = [0, 0, 0, 0, 0, 0, 0, 0, 52, 0, 0, 0, 0, 0\\n0, 0, 0, 0, 0, 0, 0, 0]'),\n",
       " Text(0.9473684210526315, 0.08823529411764706, 'x[2] <= 41.0\\ngini = 0.444\\nsamples = 3\\nvalue = [0, 0, 0, 0, 0, 0, 0, 0, 2, 0, 0, 0, 0, 0\\n0, 0, 0, 0, 0, 0, 1, 0]'),\n",
       " Text(0.9210526315789473, 0.029411764705882353, 'gini = 0.0\\nsamples = 2\\nvalue = [0, 0, 0, 0, 0, 0, 0, 0, 2, 0, 0, 0, 0, 0\\n0, 0, 0, 0, 0, 0, 0, 0]'),\n",
       " Text(0.9736842105263158, 0.029411764705882353, 'gini = 0.0\\nsamples = 1\\nvalue = [0, 0, 0, 0, 0, 0, 0, 0, 0, 0, 0, 0, 0, 0\\n0, 0, 0, 0, 0, 0, 1, 0]'),\n",
       " Text(0.8157894736842105, 0.38235294117647056, 'gini = 0.0\\nsamples = 61\\nvalue = [0, 0, 0, 0, 0, 0, 0, 0, 0, 0, 0, 0, 0, 0\\n0, 0, 0, 0, 0, 0, 61, 0]'),\n",
       " Text(0.8421052631578947, 0.4411764705882353, 'gini = 0.0\\nsamples = 57\\nvalue = [0, 0, 0, 0, 0, 0, 0, 0, 0, 0, 0, 0, 0, 0\\n0, 0, 0, 57, 0, 0, 0, 0]'),\n",
       " Text(0.8421052631578947, 0.6176470588235294, 'x[6] <= 130.276\\ngini = 0.027\\nsamples = 73\\nvalue = [0, 0, 0, 0, 0, 0, 72, 0, 1, 0, 0, 0, 0, 0\\n0, 0, 0, 0, 0, 0, 0, 0]'),\n",
       " Text(0.8157894736842105, 0.5588235294117647, 'gini = 0.0\\nsamples = 72\\nvalue = [0, 0, 0, 0, 0, 0, 72, 0, 0, 0, 0, 0, 0, 0\\n0, 0, 0, 0, 0, 0, 0, 0]'),\n",
       " Text(0.868421052631579, 0.5588235294117647, 'gini = 0.0\\nsamples = 1\\nvalue = [0, 0, 0, 0, 0, 0, 0, 0, 1, 0, 0, 0, 0, 0\\n0, 0, 0, 0, 0, 0, 0, 0]'),\n",
       " Text(0.868421052631579, 0.7352941176470589, 'x[5] <= 6.571\\ngini = 0.051\\nsamples = 76\\nvalue = [0, 74, 0, 0, 0, 0, 0, 0, 0, 0, 0, 0, 0, 0\\n0, 0, 0, 2, 0, 0, 0, 0]'),\n",
       " Text(0.8421052631578947, 0.6764705882352942, 'gini = 0.0\\nsamples = 74\\nvalue = [0, 74, 0, 0, 0, 0, 0, 0, 0, 0, 0, 0, 0, 0\\n0, 0, 0, 0, 0, 0, 0, 0]'),\n",
       " Text(0.8947368421052632, 0.6764705882352942, 'gini = 0.0\\nsamples = 2\\nvalue = [0, 0, 0, 0, 0, 0, 0, 0, 0, 0, 0, 0, 0, 0\\n0, 0, 0, 2, 0, 0, 0, 0]'),\n",
       " Text(0.8618421052631579, 0.8529411764705882, 'x[6] <= 87.516\\ngini = 0.497\\nsamples = 143\\nvalue = [66, 0, 0, 0, 0, 0, 0, 77, 0, 0, 0, 0, 0, 0\\n0, 0, 0, 0, 0, 0, 0, 0]'),\n",
       " Text(0.8355263157894737, 0.7941176470588235, 'gini = 0.0\\nsamples = 77\\nvalue = [0, 0, 0, 0, 0, 0, 0, 77, 0, 0, 0, 0, 0, 0\\n0, 0, 0, 0, 0, 0, 0, 0]'),\n",
       " Text(0.8881578947368421, 0.7941176470588235, 'gini = 0.0\\nsamples = 66\\nvalue = [66, 0, 0, 0, 0, 0, 0, 0, 0, 0, 0, 0, 0, 0\\n0, 0, 0, 0, 0, 0, 0, 0]')]"
      ]
     },
     "execution_count": 30,
     "metadata": {},
     "output_type": "execute_result"
    },
    {
     "data": {
      "image/png": "[encoded data removed]",
      "text/plain": [
       "<Figure size 640x480 with 1 Axes>"
      ]
     },
     "metadata": {},
     "output_type": "display_data"
    }
   ],
   "source": [
    "from sklearn import tree\n",
    "tree.plot_tree(classifier)"
   ]
  },
  {
   "cell_type": "code",
   "execution_count": 31,
   "id": "55dfaba4",
   "metadata": {},
   "outputs": [],
   "source": [
    "tree.export_graphviz(classifier,out_file=\"DT_Crop.dot\",filled=True)"
   ]
  },
  {
   "cell_type": "code",
   "execution_count": 32,
   "id": "ba4e52a7",
   "metadata": {},
   "outputs": [
    {
     "data": {
      "text/plain": [
       "[Text(0.5, 0.875, 'x[13] <= 6.35\\ngini = 0.498\\nsamples = 70\\nvalue = [37, 33]'),\n",
       " Text(0.25, 0.625, 'x[15] <= 6.8\\ngini = 0.175\\nsamples = 31\\nvalue = [3, 28]'),\n",
       " Text(0.125, 0.375, 'gini = 0.0\\nsamples = 27\\nvalue = [0, 27]'),\n",
       " Text(0.375, 0.375, 'x[11] <= 93.3\\ngini = 0.375\\nsamples = 4\\nvalue = [3, 1]'),\n",
       " Text(0.25, 0.125, 'gini = 0.0\\nsamples = 3\\nvalue = [3, 0]'),\n",
       " Text(0.5, 0.125, 'gini = 0.0\\nsamples = 1\\nvalue = [0, 1]'),\n",
       " Text(0.75, 0.625, 'x[14] <= 0.64\\ngini = 0.224\\nsamples = 39\\nvalue = [34, 5]'),\n",
       " Text(0.625, 0.375, 'gini = 0.0\\nsamples = 5\\nvalue = [0, 5]'),\n",
       " Text(0.875, 0.375, 'gini = 0.0\\nsamples = 34\\nvalue = [34, 0]')]"
      ]
     },
     "execution_count": 32,
     "metadata": {},
     "output_type": "execute_result"
    },
    {
     "data": {
      "image/png": "[encoded data removed]",
      "text/plain": [
       "<Figure size 640x480 with 1 Axes>"
      ]
     },
     "metadata": {},
     "output_type": "display_data"
    }
   ],
   "source": [
    "tree.plot_tree(cls)"
   ]
  },
  {
   "cell_type": "code",
   "execution_count": 33,
   "id": "494541f3",
   "metadata": {},
   "outputs": [],
   "source": [
    "tree.export_graphviz(cls,out_file=\"DT_Soil.dot\",filled=True)"
   ]
  },
  {
   "cell_type": "code",
   "execution_count": 34,
   "id": "ab8f3d5a",
   "metadata": {},
   "outputs": [],
   "source": [
    "y2_pred = cls.predict(x2_test)\n",
    "y1_pred = classifier.predict(x1_test)"
   ]
  },
  {
   "cell_type": "code",
   "execution_count": 35,
   "id": "303e1028",
   "metadata": {},
   "outputs": [
    {
     "name": "stdout",
     "output_type": "stream",
     "text": [
      "              precision    recall  f1-score   support\n",
      "\n",
      "     Fertile       0.80      0.92      0.86        13\n",
      " Non Fertile       0.93      0.82      0.87        17\n",
      "\n",
      "    accuracy                           0.87        30\n",
      "   macro avg       0.87      0.87      0.87        30\n",
      "weighted avg       0.88      0.87      0.87        30\n",
      "\n"
     ]
    }
   ],
   "source": [
    "from sklearn.metrics import classification_report\n",
    "print(classification_report(y2_test,y2_pred))"
   ]
  },
  {
   "cell_type": "code",
   "execution_count": 36,
   "id": "6c3a1317",
   "metadata": {},
   "outputs": [
    {
     "name": "stdout",
     "output_type": "stream",
     "text": [
      "              precision    recall  f1-score   support\n",
      "\n",
      "       apple       1.00      1.00      1.00        34\n",
      "      banana       1.00      1.00      1.00        26\n",
      "   blackgram       0.93      1.00      0.96        26\n",
      "    chickpea       1.00      1.00      1.00        34\n",
      "     coconut       1.00      1.00      1.00        33\n",
      "      coffee       1.00      1.00      1.00        30\n",
      "      cotton       1.00      1.00      1.00        28\n",
      "      grapes       1.00      1.00      1.00        23\n",
      "        jute       0.86      0.94      0.90        34\n",
      " kidneybeans       1.00      1.00      1.00        36\n",
      "      lentil       0.96      1.00      0.98        22\n",
      "       maize       1.00      1.00      1.00        26\n",
      "       mango       1.00      1.00      1.00        32\n",
      "   mothbeans       1.00      0.91      0.95        34\n",
      "    mungbean       1.00      1.00      1.00        30\n",
      "   muskmelon       1.00      1.00      1.00        24\n",
      "      orange       1.00      1.00      1.00        25\n",
      "      papaya       1.00      1.00      1.00        37\n",
      "  pigeonpeas       1.00      1.00      1.00        37\n",
      " pomegranate       1.00      1.00      1.00        38\n",
      "        rice       0.92      0.82      0.87        28\n",
      "  watermelon       1.00      1.00      1.00        23\n",
      "\n",
      "    accuracy                           0.98       660\n",
      "   macro avg       0.98      0.99      0.98       660\n",
      "weighted avg       0.99      0.98      0.98       660\n",
      "\n"
     ]
    }
   ],
   "source": [
    "from sklearn.metrics import classification_report\n",
    "print(classification_report(y1_test,y1_pred))"
   ]
  },
  {
   "cell_type": "code",
   "execution_count": 37,
   "id": "0283ddd9",
   "metadata": {},
   "outputs": [
    {
     "name": "stdout",
     "output_type": "stream",
     "text": [
      "Accuracy:  0.9848484848484849 \n",
      " Precision:  0.9849980923893967 \n",
      " Recall_score:  0.9851986249045073 \n",
      " F1_score:  0.9847236306178639\n"
     ]
    }
   ],
   "source": [
    "report1 = classification_report(y1_test, y1_pred, output_dict=True)\n",
    "accuracy = report1['accuracy']\n",
    "macro_precision =  report1['macro avg']['precision'] \n",
    "macro_recall = report1['macro avg']['recall']    \n",
    "macro_f1 = report1['macro avg']['f1-score']\n",
    "print(\"Accuracy: \",accuracy,\"\\n\",\"Precision: \",macro_precision,\"\\n\",\"Recall_score: \",macro_recall,\"\\n\",\"F1_score: \",macro_f1)"
   ]
  },
  {
   "cell_type": "code",
   "execution_count": 38,
   "id": "128a5c56",
   "metadata": {},
   "outputs": [
    {
     "name": "stdout",
     "output_type": "stream",
     "text": [
      "Accuracy:  0.8666666666666667 \n",
      " Precision:  0.8666666666666667 \n",
      " Recall_score:  0.8733031674208145 \n",
      " F1_score:  0.8660714285714285\n"
     ]
    }
   ],
   "source": [
    "report2= classification_report(y2_test, y2_pred, output_dict=True)\n",
    "accuracy = report2['accuracy']\n",
    "macro_precision =  report2['macro avg']['precision'] \n",
    "macro_recall = report2['macro avg']['recall']    \n",
    "macro_f1 = report2['macro avg']['f1-score']\n",
    "print(\"Accuracy: \",accuracy,\"\\n\",\"Precision: \",macro_precision,\"\\n\",\"Recall_score: \",macro_recall,\"\\n\",\"F1_score: \",macro_f1)"
   ]
  },
  {
   "cell_type": "code",
   "execution_count": null,
   "id": "d1969cbc",
   "metadata": {},
   "outputs": [],
   "source": []
  }
 ],
 "metadata": {
  "kernelspec": {
   "display_name": "Python 3 (ipykernel)",
   "language": "python",
   "name": "python3"
  },
  "language_info": {
   "codemirror_mode": {
    "name": "ipython",
    "version": 3
   },
   "file_extension": ".py",
   "mimetype": "text/x-python",
   "name": "python",
   "nbconvert_exporter": "python",
   "pygments_lexer": "ipython3",
   "version": "3.11.5"
  }
 },
 "nbformat": 4,
 "nbformat_minor": 5
}
